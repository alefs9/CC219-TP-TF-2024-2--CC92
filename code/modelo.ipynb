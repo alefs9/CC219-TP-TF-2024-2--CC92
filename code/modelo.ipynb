{
 "cells": [
  {
   "cell_type": "code",
   "execution_count": 8,
   "id": "85254f03",
   "metadata": {},
   "outputs": [],
   "source": [
    "import spacy"
   ]
  },
  {
   "cell_type": "code",
   "execution_count": 9,
   "id": "0476e1fa",
   "metadata": {},
   "outputs": [],
   "source": [
    "nlp = spacy.load(\"en_core_web_sm\")"
   ]
  },
  {
   "cell_type": "code",
   "execution_count": 10,
   "id": "2e3e514d",
   "metadata": {},
   "outputs": [],
   "source": [
    "def spacy_preprocessor(text):\n",
    "    doc = nlp(text)\n",
    "    tokens = [\n",
    "        token.lemma_.lower() for token in doc\n",
    "        if not token.is_stop and not token.is_punct and token.is_alpha\n",
    "    ]\n",
    "    return \" \".join(tokens)"
   ]
  },
  {
   "cell_type": "code",
   "execution_count": 11,
   "id": "43a8842e",
   "metadata": {},
   "outputs": [],
   "source": [
    "import joblib\n",
    "import pandas as pd"
   ]
  },
  {
   "cell_type": "code",
   "execution_count": 12,
   "id": "38d4e5c8",
   "metadata": {},
   "outputs": [],
   "source": [
    "modelo = joblib.load(\"mejor_modelo_urgencia.pkl\")"
   ]
  },
  {
   "cell_type": "markdown",
   "id": "2872be62",
   "metadata": {},
   "source": [
    "preparar datos nuevos"
   ]
  },
  {
   "cell_type": "code",
   "execution_count": 22,
   "id": "7b9bdf8f",
   "metadata": {},
   "outputs": [
    {
     "data": {
      "text/html": [
       "<div>\n",
       "<style scoped>\n",
       "    .dataframe tbody tr th:only-of-type {\n",
       "        vertical-align: middle;\n",
       "    }\n",
       "\n",
       "    .dataframe tbody tr th {\n",
       "        vertical-align: top;\n",
       "    }\n",
       "\n",
       "    .dataframe thead th {\n",
       "        text-align: right;\n",
       "    }\n",
       "</style>\n",
       "<table border=\"1\" class=\"dataframe\">\n",
       "  <thead>\n",
       "    <tr style=\"text-align: right;\">\n",
       "      <th></th>\n",
       "      <th>Ticket Description</th>\n",
       "      <th>Ticket Priority</th>\n",
       "      <th>Ticket Channel</th>\n",
       "    </tr>\n",
       "  </thead>\n",
       "  <tbody>\n",
       "    <tr>\n",
       "      <th>0</th>\n",
       "      <td>I just wanted to ask about the new features in...</td>\n",
       "      <td>Low</td>\n",
       "      <td>Email</td>\n",
       "    </tr>\n",
       "    <tr>\n",
       "      <th>1</th>\n",
       "      <td>Can you tell me how to change my password?</td>\n",
       "      <td>High</td>\n",
       "      <td>Email</td>\n",
       "    </tr>\n",
       "    <tr>\n",
       "      <th>2</th>\n",
       "      <td>Just providing feedback about the app — really...</td>\n",
       "      <td>Low</td>\n",
       "      <td>Email</td>\n",
       "    </tr>\n",
       "    <tr>\n",
       "      <th>3</th>\n",
       "      <td>Is there a way to customize the theme colors?</td>\n",
       "      <td>Low</td>\n",
       "      <td>Email</td>\n",
       "    </tr>\n",
       "    <tr>\n",
       "      <th>4</th>\n",
       "      <td>My device stopped working completely and I nee...</td>\n",
       "      <td>High</td>\n",
       "      <td>Chat</td>\n",
       "    </tr>\n",
       "    <tr>\n",
       "      <th>5</th>\n",
       "      <td>I can’t access my account and it shows invalid...</td>\n",
       "      <td>Medium</td>\n",
       "      <td>Chat</td>\n",
       "    </tr>\n",
       "    <tr>\n",
       "      <th>6</th>\n",
       "      <td>The system is crashing every time I try to use...</td>\n",
       "      <td>Critical</td>\n",
       "      <td>Phone</td>\n",
       "    </tr>\n",
       "    <tr>\n",
       "      <th>7</th>\n",
       "      <td>I am experiencing a critical error that preven...</td>\n",
       "      <td>Critical</td>\n",
       "      <td>Social media</td>\n",
       "    </tr>\n",
       "  </tbody>\n",
       "</table>\n",
       "</div>"
      ],
      "text/plain": [
       "                                  Ticket Description Ticket Priority  \\\n",
       "0  I just wanted to ask about the new features in...             Low   \n",
       "1         Can you tell me how to change my password?            High   \n",
       "2  Just providing feedback about the app — really...             Low   \n",
       "3      Is there a way to customize the theme colors?             Low   \n",
       "4  My device stopped working completely and I nee...            High   \n",
       "5  I can’t access my account and it shows invalid...          Medium   \n",
       "6  The system is crashing every time I try to use...        Critical   \n",
       "7  I am experiencing a critical error that preven...        Critical   \n",
       "\n",
       "  Ticket Channel  \n",
       "0          Email  \n",
       "1          Email  \n",
       "2          Email  \n",
       "3          Email  \n",
       "4           Chat  \n",
       "5           Chat  \n",
       "6          Phone  \n",
       "7   Social media  "
      ]
     },
     "execution_count": 22,
     "metadata": {},
     "output_type": "execute_result"
    }
   ],
   "source": [
    "nuevo_ticket = pd.DataFrame({\n",
    "    \"Ticket Description\": [\n",
    "        \"I just wanted to ask about the new features in the latest update, looks great!\",\n",
    "        \"Can you tell me how to change my password?\",\n",
    "        \"Just providing feedback about the app — really enjoying it so far!\",\n",
    "        \"Is there a way to customize the theme colors?\",\n",
    "      \n",
    "        \"My device stopped working completely and I need help now!\",\n",
    "        \"I can’t access my account and it shows invalid credentials, please assist immediately.\",\n",
    "        \"The system is crashing every time I try to use it, this is blocking my work.\",\n",
    "        \"I am experiencing a critical error that prevents me from completing my task.\"\n",
    "    ],\n",
    "    \"Ticket Priority\": [\n",
    "        \"Low\",\n",
    "        \"High\",\n",
    "        \"Low\",\n",
    "        \"Low\",\n",
    "        \"High\",\n",
    "        \"Medium\",\n",
    "        \"Critical\",\n",
    "        \"Critical\"\n",
    "    ],\n",
    "    \"Ticket Channel\": [\n",
    "        \"Email\",\n",
    "        \"Email\",\n",
    "        \"Email\",\n",
    "        \"Email\",\n",
    "        \"Chat\",\n",
    "        \"Chat\",\n",
    "        \"Phone\",\n",
    "        \"Social media\"\n",
    "    ]\n",
    "})\n",
    "\n",
    "nuevo_ticket"
   ]
  },
  {
   "cell_type": "markdown",
   "id": "0c2ef74b",
   "metadata": {},
   "source": [
    "Predecir la clase"
   ]
  },
  {
   "cell_type": "code",
   "execution_count": 23,
   "id": "482bae1e",
   "metadata": {},
   "outputs": [],
   "source": [
    "pred = modelo.predict(nuevo_ticket)\n",
    "proba = modelo.predict_proba(nuevo_ticket)[:,1]"
   ]
  },
  {
   "cell_type": "markdown",
   "id": "a4d6ec70",
   "metadata": {},
   "source": [
    "Ver también la probabilidad"
   ]
  },
  {
   "cell_type": "code",
   "execution_count": 24,
   "id": "55e92ea0",
   "metadata": {},
   "outputs": [
    {
     "name": "stdout",
     "output_type": "stream",
     "text": [
      "\n",
      "Ejemplo 1:\n",
      "Texto: I just wanted to ask about the new features in the latest update, looks great!\n",
      "Predicción: No urgente\n",
      "Probabilidad de ser urgente: 0.00\n",
      "\n",
      "Ejemplo 2:\n",
      "Texto: Can you tell me how to change my password?\n",
      "Predicción: Urgente\n",
      "Probabilidad de ser urgente: 1.00\n",
      "\n",
      "Ejemplo 3:\n",
      "Texto: Just providing feedback about the app — really enjoying it so far!\n",
      "Predicción: No urgente\n",
      "Probabilidad de ser urgente: 0.00\n",
      "\n",
      "Ejemplo 4:\n",
      "Texto: Is there a way to customize the theme colors?\n",
      "Predicción: No urgente\n",
      "Probabilidad de ser urgente: 0.00\n",
      "\n",
      "Ejemplo 5:\n",
      "Texto: My device stopped working completely and I need help now!\n",
      "Predicción: Urgente\n",
      "Probabilidad de ser urgente: 1.00\n",
      "\n",
      "Ejemplo 6:\n",
      "Texto: I can’t access my account and it shows invalid credentials, please assist immediately.\n",
      "Predicción: No urgente\n",
      "Probabilidad de ser urgente: 0.00\n",
      "\n",
      "Ejemplo 7:\n",
      "Texto: The system is crashing every time I try to use it, this is blocking my work.\n",
      "Predicción: Urgente\n",
      "Probabilidad de ser urgente: 1.00\n",
      "\n",
      "Ejemplo 8:\n",
      "Texto: I am experiencing a critical error that prevents me from completing my task.\n",
      "Predicción: Urgente\n",
      "Probabilidad de ser urgente: 1.00\n"
     ]
    }
   ],
   "source": [
    "for i, (texto, pred_clase, prob) in enumerate(zip(nuevo_ticket['Ticket Description'], pred, proba)):\n",
    "    print(f\"\\nEjemplo {i+1}:\")\n",
    "    print(f\"Texto: {texto}\")\n",
    "    print(f\"Predicción: {'Urgente' if pred_clase==1 else 'No urgente'}\")\n",
    "    print(f\"Probabilidad de ser urgente: {prob:.2f}\")"
   ]
  }
 ],
 "metadata": {
  "kernelspec": {
   "display_name": "Python 3",
   "language": "python",
   "name": "python3"
  },
  "language_info": {
   "codemirror_mode": {
    "name": "ipython",
    "version": 3
   },
   "file_extension": ".py",
   "mimetype": "text/x-python",
   "name": "python",
   "nbconvert_exporter": "python",
   "pygments_lexer": "ipython3",
   "version": "3.11.5"
  }
 },
 "nbformat": 4,
 "nbformat_minor": 5
}
