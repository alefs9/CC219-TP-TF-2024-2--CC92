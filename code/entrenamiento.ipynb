{
 "cells": [
  {
   "cell_type": "markdown",
   "id": "8c3d22cf",
   "metadata": {},
   "source": [
    "# Parte 4: Clasificación de Tickets usando NLP"
   ]
  },
  {
   "cell_type": "markdown",
   "id": "a8261277",
   "metadata": {},
   "source": [
    "El modelado busca desarrollar clasificadores que automaticen el triage de tickets de soporte a partir del texto libre. Esta etapa es fundamental para traducir la información no estructurada en decisiones útiles para el negocio. Los objetivos principales son:\n",
    "\n",
    "- Entrenar modelos supervisados que aprendan a predecir la categoría de un ticket en base a su descripción textual.\n",
    "- Comparar dos enfoques: uno tradicional basado en TF-IDF + modelo clásico (Logistic Regression) y otro moderno basado en el fine-tuning de DistilBERT.\n",
    "- Evaluar el rendimiento de ambos enfoques utilizando métricas como precisión, recall y F1-score.\n",
    "- Detectar fortalezas y limitaciones de cada método para entender cuál se adapta mejor al problema.\n",
    "- Identificar oportunidades de mejora y ajustes en el pipeline de procesamiento y modelado.\n",
    "- Seleccionar el modelo más robusto para su futura implementación como sistema automatizado de clasificación."
   ]
  },
  {
   "cell_type": "markdown",
   "id": "6c56c6dd",
   "metadata": {},
   "source": [
    "### Importar librerías y Configuración Inicial"
   ]
  },
  {
   "cell_type": "code",
   "execution_count": 2,
   "id": "5df01d94",
   "metadata": {},
   "outputs": [
    {
     "name": "stdout",
     "output_type": "stream",
     "text": [
      "Defaulting to user installation because normal site-packages is not writeable\n",
      "Requirement already satisfied: transformers in c:\\users\\alexa\\appdata\\roaming\\python\\python312\\site-packages (4.53.0)\n",
      "Requirement already satisfied: torch in c:\\users\\alexa\\appdata\\roaming\\python\\python312\\site-packages (2.7.1)\n",
      "Requirement already satisfied: filelock in c:\\users\\alexa\\appdata\\roaming\\python\\python312\\site-packages (from transformers) (3.18.0)\n",
      "Requirement already satisfied: huggingface-hub<1.0,>=0.30.0 in c:\\users\\alexa\\appdata\\roaming\\python\\python312\\site-packages (from transformers) (0.33.2)\n",
      "Requirement already satisfied: numpy>=1.17 in c:\\users\\alexa\\appdata\\roaming\\python\\python312\\site-packages (from transformers) (2.1.3)\n",
      "Requirement already satisfied: packaging>=20.0 in c:\\users\\alexa\\appdata\\roaming\\python\\python312\\site-packages (from transformers) (24.2)\n",
      "Requirement already satisfied: pyyaml>=5.1 in c:\\users\\alexa\\appdata\\roaming\\python\\python312\\site-packages (from transformers) (6.0.2)\n",
      "Requirement already satisfied: regex!=2019.12.17 in c:\\users\\alexa\\appdata\\roaming\\python\\python312\\site-packages (from transformers) (2024.11.6)\n",
      "Requirement already satisfied: requests in c:\\users\\alexa\\appdata\\roaming\\python\\python312\\site-packages (from transformers) (2.32.3)\n",
      "Requirement already satisfied: tokenizers<0.22,>=0.21 in c:\\users\\alexa\\appdata\\roaming\\python\\python312\\site-packages (from transformers) (0.21.2)\n",
      "Requirement already satisfied: safetensors>=0.4.3 in c:\\users\\alexa\\appdata\\roaming\\python\\python312\\site-packages (from transformers) (0.5.3)\n",
      "Requirement already satisfied: tqdm>=4.27 in c:\\users\\alexa\\appdata\\roaming\\python\\python312\\site-packages (from transformers) (4.67.1)\n",
      "Requirement already satisfied: fsspec>=2023.5.0 in c:\\users\\alexa\\appdata\\roaming\\python\\python312\\site-packages (from huggingface-hub<1.0,>=0.30.0->transformers) (2025.5.1)\n",
      "Requirement already satisfied: typing-extensions>=3.7.4.3 in c:\\users\\alexa\\appdata\\roaming\\python\\python312\\site-packages (from huggingface-hub<1.0,>=0.30.0->transformers) (4.13.1)\n",
      "Requirement already satisfied: sympy>=1.13.3 in c:\\users\\alexa\\appdata\\roaming\\python\\python312\\site-packages (from torch) (1.14.0)\n",
      "Requirement already satisfied: networkx in c:\\users\\alexa\\appdata\\roaming\\python\\python312\\site-packages (from torch) (3.5)\n",
      "Requirement already satisfied: jinja2 in c:\\users\\alexa\\appdata\\roaming\\python\\python312\\site-packages (from torch) (3.1.6)\n",
      "Requirement already satisfied: setuptools in c:\\users\\alexa\\appdata\\roaming\\python\\python312\\site-packages (from torch) (78.1.0)\n",
      "Requirement already satisfied: mpmath<1.4,>=1.1.0 in c:\\users\\alexa\\appdata\\roaming\\python\\python312\\site-packages (from sympy>=1.13.3->torch) (1.3.0)\n",
      "Requirement already satisfied: colorama in c:\\users\\alexa\\appdata\\roaming\\python\\python312\\site-packages (from tqdm>=4.27->transformers) (0.4.6)\n",
      "Requirement already satisfied: MarkupSafe>=2.0 in c:\\users\\alexa\\appdata\\roaming\\python\\python312\\site-packages (from jinja2->torch) (3.0.2)\n",
      "Requirement already satisfied: charset-normalizer<4,>=2 in c:\\users\\alexa\\appdata\\roaming\\python\\python312\\site-packages (from requests->transformers) (3.4.1)\n",
      "Requirement already satisfied: idna<4,>=2.5 in c:\\users\\alexa\\appdata\\roaming\\python\\python312\\site-packages (from requests->transformers) (3.10)\n",
      "Requirement already satisfied: urllib3<3,>=1.21.1 in c:\\users\\alexa\\appdata\\roaming\\python\\python312\\site-packages (from requests->transformers) (2.3.0)\n",
      "Requirement already satisfied: certifi>=2017.4.17 in c:\\users\\alexa\\appdata\\roaming\\python\\python312\\site-packages (from requests->transformers) (2025.1.31)\n",
      "Defaulting to user installation because normal site-packages is not writeable\n",
      "Requirement already satisfied: tensorflow in c:\\users\\alexa\\appdata\\roaming\\python\\python312\\site-packages (2.19.0)\n",
      "Requirement already satisfied: absl-py>=1.0.0 in c:\\users\\alexa\\appdata\\roaming\\python\\python312\\site-packages (from tensorflow) (2.3.1)\n",
      "Requirement already satisfied: astunparse>=1.6.0 in c:\\users\\alexa\\appdata\\roaming\\python\\python312\\site-packages (from tensorflow) (1.6.3)\n",
      "Requirement already satisfied: flatbuffers>=24.3.25 in c:\\users\\alexa\\appdata\\roaming\\python\\python312\\site-packages (from tensorflow) (25.2.10)\n",
      "Requirement already satisfied: gast!=0.5.0,!=0.5.1,!=0.5.2,>=0.2.1 in c:\\users\\alexa\\appdata\\roaming\\python\\python312\\site-packages (from tensorflow) (0.6.0)\n",
      "Requirement already satisfied: google-pasta>=0.1.1 in c:\\users\\alexa\\appdata\\roaming\\python\\python312\\site-packages (from tensorflow) (0.2.0)\n",
      "Requirement already satisfied: libclang>=13.0.0 in c:\\users\\alexa\\appdata\\roaming\\python\\python312\\site-packages (from tensorflow) (18.1.1)\n",
      "Requirement already satisfied: opt-einsum>=2.3.2 in c:\\users\\alexa\\appdata\\roaming\\python\\python312\\site-packages (from tensorflow) (3.4.0)\n",
      "Requirement already satisfied: packaging in c:\\users\\alexa\\appdata\\roaming\\python\\python312\\site-packages (from tensorflow) (24.2)\n",
      "Requirement already satisfied: protobuf!=4.21.0,!=4.21.1,!=4.21.2,!=4.21.3,!=4.21.4,!=4.21.5,<6.0.0dev,>=3.20.3 in c:\\users\\alexa\\appdata\\roaming\\python\\python312\\site-packages (from tensorflow) (5.29.5)\n",
      "Requirement already satisfied: requests<3,>=2.21.0 in c:\\users\\alexa\\appdata\\roaming\\python\\python312\\site-packages (from tensorflow) (2.32.3)\n",
      "Requirement already satisfied: setuptools in c:\\users\\alexa\\appdata\\roaming\\python\\python312\\site-packages (from tensorflow) (78.1.0)\n",
      "Requirement already satisfied: six>=1.12.0 in c:\\users\\alexa\\appdata\\roaming\\python\\python312\\site-packages (from tensorflow) (1.17.0)\n",
      "Requirement already satisfied: termcolor>=1.1.0 in c:\\users\\alexa\\appdata\\roaming\\python\\python312\\site-packages (from tensorflow) (3.1.0)\n",
      "Requirement already satisfied: typing-extensions>=3.6.6 in c:\\users\\alexa\\appdata\\roaming\\python\\python312\\site-packages (from tensorflow) (4.13.1)\n",
      "Requirement already satisfied: wrapt>=1.11.0 in c:\\users\\alexa\\appdata\\roaming\\python\\python312\\site-packages (from tensorflow) (1.17.2)\n",
      "Requirement already satisfied: grpcio<2.0,>=1.24.3 in c:\\users\\alexa\\appdata\\roaming\\python\\python312\\site-packages (from tensorflow) (1.73.1)\n",
      "Requirement already satisfied: tensorboard~=2.19.0 in c:\\users\\alexa\\appdata\\roaming\\python\\python312\\site-packages (from tensorflow) (2.19.0)\n",
      "Requirement already satisfied: keras>=3.5.0 in c:\\users\\alexa\\appdata\\roaming\\python\\python312\\site-packages (from tensorflow) (3.10.0)\n",
      "Requirement already satisfied: numpy<2.2.0,>=1.26.0 in c:\\users\\alexa\\appdata\\roaming\\python\\python312\\site-packages (from tensorflow) (2.1.3)\n",
      "Requirement already satisfied: h5py>=3.11.0 in c:\\users\\alexa\\appdata\\roaming\\python\\python312\\site-packages (from tensorflow) (3.14.0)\n",
      "Requirement already satisfied: ml-dtypes<1.0.0,>=0.5.1 in c:\\users\\alexa\\appdata\\roaming\\python\\python312\\site-packages (from tensorflow) (0.5.1)\n",
      "Requirement already satisfied: charset-normalizer<4,>=2 in c:\\users\\alexa\\appdata\\roaming\\python\\python312\\site-packages (from requests<3,>=2.21.0->tensorflow) (3.4.1)\n",
      "Requirement already satisfied: idna<4,>=2.5 in c:\\users\\alexa\\appdata\\roaming\\python\\python312\\site-packages (from requests<3,>=2.21.0->tensorflow) (3.10)\n",
      "Requirement already satisfied: urllib3<3,>=1.21.1 in c:\\users\\alexa\\appdata\\roaming\\python\\python312\\site-packages (from requests<3,>=2.21.0->tensorflow) (2.3.0)\n",
      "Requirement already satisfied: certifi>=2017.4.17 in c:\\users\\alexa\\appdata\\roaming\\python\\python312\\site-packages (from requests<3,>=2.21.0->tensorflow) (2025.1.31)\n",
      "Requirement already satisfied: markdown>=2.6.8 in c:\\users\\alexa\\appdata\\roaming\\python\\python312\\site-packages (from tensorboard~=2.19.0->tensorflow) (3.8.2)\n",
      "Requirement already satisfied: tensorboard-data-server<0.8.0,>=0.7.0 in c:\\users\\alexa\\appdata\\roaming\\python\\python312\\site-packages (from tensorboard~=2.19.0->tensorflow) (0.7.2)\n",
      "Requirement already satisfied: werkzeug>=1.0.1 in c:\\users\\alexa\\appdata\\roaming\\python\\python312\\site-packages (from tensorboard~=2.19.0->tensorflow) (3.1.3)\n",
      "Requirement already satisfied: wheel<1.0,>=0.23.0 in c:\\users\\alexa\\appdata\\roaming\\python\\python312\\site-packages (from astunparse>=1.6.0->tensorflow) (0.45.1)\n",
      "Requirement already satisfied: rich in c:\\users\\alexa\\appdata\\roaming\\python\\python312\\site-packages (from keras>=3.5.0->tensorflow) (14.0.0)\n",
      "Requirement already satisfied: namex in c:\\users\\alexa\\appdata\\roaming\\python\\python312\\site-packages (from keras>=3.5.0->tensorflow) (0.1.0)\n",
      "Requirement already satisfied: optree in c:\\users\\alexa\\appdata\\roaming\\python\\python312\\site-packages (from keras>=3.5.0->tensorflow) (0.16.0)\n",
      "Requirement already satisfied: MarkupSafe>=2.1.1 in c:\\users\\alexa\\appdata\\roaming\\python\\python312\\site-packages (from werkzeug>=1.0.1->tensorboard~=2.19.0->tensorflow) (3.0.2)\n",
      "Requirement already satisfied: markdown-it-py>=2.2.0 in c:\\users\\alexa\\appdata\\roaming\\python\\python312\\site-packages (from rich->keras>=3.5.0->tensorflow) (3.0.0)\n",
      "Requirement already satisfied: pygments<3.0.0,>=2.13.0 in c:\\users\\alexa\\appdata\\roaming\\python\\python312\\site-packages (from rich->keras>=3.5.0->tensorflow) (2.19.1)\n",
      "Requirement already satisfied: mdurl~=0.1 in c:\\users\\alexa\\appdata\\roaming\\python\\python312\\site-packages (from markdown-it-py>=2.2.0->rich->keras>=3.5.0->tensorflow) (0.1.2)\n"
     ]
    }
   ],
   "source": [
    "!pip install transformers torch\n",
    "!pip install tensorflow"
   ]
  },
  {
   "cell_type": "code",
   "execution_count": 12,
   "id": "178a8cf3",
   "metadata": {},
   "outputs": [
    {
     "ename": "ValueError",
     "evalue": "Your currently installed version of Keras is Keras 3, but this is not yet supported in Transformers. Please install the backwards-compatible tf-keras package with `pip install tf-keras`.",
     "output_type": "error",
     "traceback": [
      "\u001b[31m---------------------------------------------------------------------------\u001b[39m",
      "\u001b[31mModuleNotFoundError\u001b[39m                       Traceback (most recent call last)",
      "\u001b[36mFile \u001b[39m\u001b[32m~\\AppData\\Roaming\\Python\\Python312\\site-packages\\transformers\\activations_tf.py:22\u001b[39m\n\u001b[32m     21\u001b[39m \u001b[38;5;28;01mtry\u001b[39;00m:\n\u001b[32m---> \u001b[39m\u001b[32m22\u001b[39m     \u001b[38;5;28;01mimport\u001b[39;00m\u001b[38;5;250m \u001b[39m\u001b[34;01mtf_keras\u001b[39;00m\u001b[38;5;250m \u001b[39m\u001b[38;5;28;01mas\u001b[39;00m\u001b[38;5;250m \u001b[39m\u001b[34;01mkeras\u001b[39;00m\n\u001b[32m     23\u001b[39m \u001b[38;5;28;01mexcept\u001b[39;00m (\u001b[38;5;167;01mModuleNotFoundError\u001b[39;00m, \u001b[38;5;167;01mImportError\u001b[39;00m):\n",
      "\u001b[31mModuleNotFoundError\u001b[39m: No module named 'tf_keras'",
      "\nDuring handling of the above exception, another exception occurred:\n",
      "\u001b[31mValueError\u001b[39m                                Traceback (most recent call last)",
      "\u001b[36mCell\u001b[39m\u001b[36m \u001b[39m\u001b[32mIn[12]\u001b[39m\u001b[32m, line 16\u001b[39m\n\u001b[32m     14\u001b[39m \u001b[38;5;28;01mfrom\u001b[39;00m\u001b[38;5;250m \u001b[39m\u001b[34;01msklearn\u001b[39;00m\u001b[34;01m.\u001b[39;00m\u001b[34;01mensemble\u001b[39;00m\u001b[38;5;250m \u001b[39m\u001b[38;5;28;01mimport\u001b[39;00m RandomForestClassifier\n\u001b[32m     15\u001b[39m \u001b[38;5;28;01mfrom\u001b[39;00m\u001b[38;5;250m \u001b[39m\u001b[34;01msklearn\u001b[39;00m\u001b[34;01m.\u001b[39;00m\u001b[34;01mmetrics\u001b[39;00m\u001b[38;5;250m \u001b[39m\u001b[38;5;28;01mimport\u001b[39;00m classification_report, roc_auc_score, confusion_matrix\n\u001b[32m---> \u001b[39m\u001b[32m16\u001b[39m \u001b[38;5;28;01mfrom\u001b[39;00m\u001b[38;5;250m \u001b[39m\u001b[34;01mtransformers\u001b[39;00m\u001b[38;5;250m \u001b[39m\u001b[38;5;28;01mimport\u001b[39;00m DistilBertTokenizer, TFDistilBertForSequenceClassification\n\u001b[32m     17\u001b[39m \u001b[38;5;28;01mimport\u001b[39;00m\u001b[38;5;250m \u001b[39m\u001b[34;01mtensorflow\u001b[39;00m\u001b[38;5;250m \u001b[39m\u001b[38;5;28;01mas\u001b[39;00m\u001b[38;5;250m \u001b[39m\u001b[34;01mtf\u001b[39;00m\n",
      "\u001b[36mFile \u001b[39m\u001b[32m<frozen importlib._bootstrap>:1412\u001b[39m, in \u001b[36m_handle_fromlist\u001b[39m\u001b[34m(module, fromlist, import_, recursive)\u001b[39m\n",
      "\u001b[36mFile \u001b[39m\u001b[32m~\\AppData\\Roaming\\Python\\Python312\\site-packages\\transformers\\utils\\import_utils.py:2154\u001b[39m, in \u001b[36m_LazyModule.__getattr__\u001b[39m\u001b[34m(self, name)\u001b[39m\n\u001b[32m   2152\u001b[39m \u001b[38;5;28;01melif\u001b[39;00m name \u001b[38;5;129;01min\u001b[39;00m \u001b[38;5;28mself\u001b[39m._class_to_module.keys():\n\u001b[32m   2153\u001b[39m     \u001b[38;5;28;01mtry\u001b[39;00m:\n\u001b[32m-> \u001b[39m\u001b[32m2154\u001b[39m         module = \u001b[38;5;28;43mself\u001b[39;49m\u001b[43m.\u001b[49m\u001b[43m_get_module\u001b[49m\u001b[43m(\u001b[49m\u001b[38;5;28;43mself\u001b[39;49m\u001b[43m.\u001b[49m\u001b[43m_class_to_module\u001b[49m\u001b[43m[\u001b[49m\u001b[43mname\u001b[49m\u001b[43m]\u001b[49m\u001b[43m)\u001b[49m\n\u001b[32m   2155\u001b[39m         value = \u001b[38;5;28mgetattr\u001b[39m(module, name)\n\u001b[32m   2156\u001b[39m     \u001b[38;5;28;01mexcept\u001b[39;00m (\u001b[38;5;167;01mModuleNotFoundError\u001b[39;00m, \u001b[38;5;167;01mRuntimeError\u001b[39;00m) \u001b[38;5;28;01mas\u001b[39;00m e:\n",
      "\u001b[36mFile \u001b[39m\u001b[32m~\\AppData\\Roaming\\Python\\Python312\\site-packages\\transformers\\utils\\import_utils.py:2184\u001b[39m, in \u001b[36m_LazyModule._get_module\u001b[39m\u001b[34m(self, module_name)\u001b[39m\n\u001b[32m   2182\u001b[39m     \u001b[38;5;28;01mreturn\u001b[39;00m importlib.import_module(\u001b[33m\"\u001b[39m\u001b[33m.\u001b[39m\u001b[33m\"\u001b[39m + module_name, \u001b[38;5;28mself\u001b[39m.\u001b[34m__name__\u001b[39m)\n\u001b[32m   2183\u001b[39m \u001b[38;5;28;01mexcept\u001b[39;00m \u001b[38;5;167;01mException\u001b[39;00m \u001b[38;5;28;01mas\u001b[39;00m e:\n\u001b[32m-> \u001b[39m\u001b[32m2184\u001b[39m     \u001b[38;5;28;01mraise\u001b[39;00m e\n",
      "\u001b[36mFile \u001b[39m\u001b[32m~\\AppData\\Roaming\\Python\\Python312\\site-packages\\transformers\\utils\\import_utils.py:2182\u001b[39m, in \u001b[36m_LazyModule._get_module\u001b[39m\u001b[34m(self, module_name)\u001b[39m\n\u001b[32m   2180\u001b[39m \u001b[38;5;28;01mdef\u001b[39;00m\u001b[38;5;250m \u001b[39m\u001b[34m_get_module\u001b[39m(\u001b[38;5;28mself\u001b[39m, module_name: \u001b[38;5;28mstr\u001b[39m):\n\u001b[32m   2181\u001b[39m     \u001b[38;5;28;01mtry\u001b[39;00m:\n\u001b[32m-> \u001b[39m\u001b[32m2182\u001b[39m         \u001b[38;5;28;01mreturn\u001b[39;00m \u001b[43mimportlib\u001b[49m\u001b[43m.\u001b[49m\u001b[43mimport_module\u001b[49m\u001b[43m(\u001b[49m\u001b[33;43m\"\u001b[39;49m\u001b[33;43m.\u001b[39;49m\u001b[33;43m\"\u001b[39;49m\u001b[43m \u001b[49m\u001b[43m+\u001b[49m\u001b[43m \u001b[49m\u001b[43mmodule_name\u001b[49m\u001b[43m,\u001b[49m\u001b[43m \u001b[49m\u001b[38;5;28;43mself\u001b[39;49m\u001b[43m.\u001b[49m\u001b[34;43m__name__\u001b[39;49m\u001b[43m)\u001b[49m\n\u001b[32m   2183\u001b[39m     \u001b[38;5;28;01mexcept\u001b[39;00m \u001b[38;5;167;01mException\u001b[39;00m \u001b[38;5;28;01mas\u001b[39;00m e:\n\u001b[32m   2184\u001b[39m         \u001b[38;5;28;01mraise\u001b[39;00m e\n",
      "\u001b[36mFile \u001b[39m\u001b[32mc:\\Python312\\Lib\\importlib\\__init__.py:90\u001b[39m, in \u001b[36mimport_module\u001b[39m\u001b[34m(name, package)\u001b[39m\n\u001b[32m     88\u001b[39m             \u001b[38;5;28;01mbreak\u001b[39;00m\n\u001b[32m     89\u001b[39m         level += \u001b[32m1\u001b[39m\n\u001b[32m---> \u001b[39m\u001b[32m90\u001b[39m \u001b[38;5;28;01mreturn\u001b[39;00m \u001b[43m_bootstrap\u001b[49m\u001b[43m.\u001b[49m\u001b[43m_gcd_import\u001b[49m\u001b[43m(\u001b[49m\u001b[43mname\u001b[49m\u001b[43m[\u001b[49m\u001b[43mlevel\u001b[49m\u001b[43m:\u001b[49m\u001b[43m]\u001b[49m\u001b[43m,\u001b[49m\u001b[43m \u001b[49m\u001b[43mpackage\u001b[49m\u001b[43m,\u001b[49m\u001b[43m \u001b[49m\u001b[43mlevel\u001b[49m\u001b[43m)\u001b[49m\n",
      "\u001b[36mFile \u001b[39m\u001b[32m~\\AppData\\Roaming\\Python\\Python312\\site-packages\\transformers\\models\\distilbert\\modeling_tf_distilbert.py:27\u001b[39m\n\u001b[32m     24\u001b[39m \u001b[38;5;28;01mimport\u001b[39;00m\u001b[38;5;250m \u001b[39m\u001b[34;01mnumpy\u001b[39;00m\u001b[38;5;250m \u001b[39m\u001b[38;5;28;01mas\u001b[39;00m\u001b[38;5;250m \u001b[39m\u001b[34;01mnp\u001b[39;00m\n\u001b[32m     25\u001b[39m \u001b[38;5;28;01mimport\u001b[39;00m\u001b[38;5;250m \u001b[39m\u001b[34;01mtensorflow\u001b[39;00m\u001b[38;5;250m \u001b[39m\u001b[38;5;28;01mas\u001b[39;00m\u001b[38;5;250m \u001b[39m\u001b[34;01mtf\u001b[39;00m\n\u001b[32m---> \u001b[39m\u001b[32m27\u001b[39m \u001b[38;5;28;01mfrom\u001b[39;00m\u001b[38;5;250m \u001b[39m\u001b[34;01m.\u001b[39;00m\u001b[34;01m.\u001b[39;00m\u001b[34;01m.\u001b[39;00m\u001b[34;01mactivations_tf\u001b[39;00m\u001b[38;5;250m \u001b[39m\u001b[38;5;28;01mimport\u001b[39;00m get_tf_activation\n\u001b[32m     28\u001b[39m \u001b[38;5;28;01mfrom\u001b[39;00m\u001b[38;5;250m \u001b[39m\u001b[34;01m.\u001b[39;00m\u001b[34;01m.\u001b[39;00m\u001b[34;01m.\u001b[39;00m\u001b[34;01mmodeling_tf_outputs\u001b[39;00m\u001b[38;5;250m \u001b[39m\u001b[38;5;28;01mimport\u001b[39;00m (\n\u001b[32m     29\u001b[39m     TFBaseModelOutput,\n\u001b[32m     30\u001b[39m     TFMaskedLMOutput,\n\u001b[32m   (...)\u001b[39m\u001b[32m     34\u001b[39m     TFTokenClassifierOutput,\n\u001b[32m     35\u001b[39m )\n\u001b[32m     36\u001b[39m \u001b[38;5;28;01mfrom\u001b[39;00m\u001b[38;5;250m \u001b[39m\u001b[34;01m.\u001b[39;00m\u001b[34;01m.\u001b[39;00m\u001b[34;01m.\u001b[39;00m\u001b[34;01mmodeling_tf_utils\u001b[39;00m\u001b[38;5;250m \u001b[39m\u001b[38;5;28;01mimport\u001b[39;00m (\n\u001b[32m     37\u001b[39m     TFMaskedLanguageModelingLoss,\n\u001b[32m     38\u001b[39m     TFModelInputType,\n\u001b[32m   (...)\u001b[39m\u001b[32m     47\u001b[39m     unpack_inputs,\n\u001b[32m     48\u001b[39m )\n",
      "\u001b[36mFile \u001b[39m\u001b[32m~\\AppData\\Roaming\\Python\\Python312\\site-packages\\transformers\\activations_tf.py:27\u001b[39m\n\u001b[32m     24\u001b[39m     \u001b[38;5;28;01mimport\u001b[39;00m\u001b[38;5;250m \u001b[39m\u001b[34;01mkeras\u001b[39;00m\n\u001b[32m     26\u001b[39m     \u001b[38;5;28;01mif\u001b[39;00m parse(keras.__version__).major > \u001b[32m2\u001b[39m:\n\u001b[32m---> \u001b[39m\u001b[32m27\u001b[39m         \u001b[38;5;28;01mraise\u001b[39;00m \u001b[38;5;167;01mValueError\u001b[39;00m(\n\u001b[32m     28\u001b[39m             \u001b[33m\"\u001b[39m\u001b[33mYour currently installed version of Keras is Keras 3, but this is not yet supported in \u001b[39m\u001b[33m\"\u001b[39m\n\u001b[32m     29\u001b[39m             \u001b[33m\"\u001b[39m\u001b[33mTransformers. Please install the backwards-compatible tf-keras package with \u001b[39m\u001b[33m\"\u001b[39m\n\u001b[32m     30\u001b[39m             \u001b[33m\"\u001b[39m\u001b[33m`pip install tf-keras`.\u001b[39m\u001b[33m\"\u001b[39m\n\u001b[32m     31\u001b[39m         )\n\u001b[32m     34\u001b[39m \u001b[38;5;28;01mdef\u001b[39;00m\u001b[38;5;250m \u001b[39m\u001b[34m_gelu\u001b[39m(x):\n\u001b[32m     35\u001b[39m \u001b[38;5;250m    \u001b[39m\u001b[33;03m\"\"\"\u001b[39;00m\n\u001b[32m     36\u001b[39m \u001b[33;03m    Gaussian Error Linear Unit. Original Implementation of the gelu activation function in Google Bert repo when\u001b[39;00m\n\u001b[32m     37\u001b[39m \u001b[33;03m    initially created. For information: OpenAI GPT's gelu is slightly different (and gives slightly different results):\u001b[39;00m\n\u001b[32m     38\u001b[39m \u001b[33;03m    0.5 * x * (1 + torch.tanh(math.sqrt(2 / math.pi) * (x + 0.044715 * torch.pow(x, 3)))) Also see\u001b[39;00m\n\u001b[32m     39\u001b[39m \u001b[33;03m    https://huggingface.co/papers/1606.08415\u001b[39;00m\n\u001b[32m     40\u001b[39m \u001b[33;03m    \"\"\"\u001b[39;00m\n",
      "\u001b[31mValueError\u001b[39m: Your currently installed version of Keras is Keras 3, but this is not yet supported in Transformers. Please install the backwards-compatible tf-keras package with `pip install tf-keras`."
     ]
    }
   ],
   "source": [
    "import pandas as pd\n",
    "import numpy as np\n",
    "import re\n",
    "import torch\n",
    "from collections import Counter\n",
    "import matplotlib.pyplot as plt\n",
    "from sklearn.model_selection import train_test_split\n",
    "from sklearn.feature_extraction.text import TfidfVectorizer\n",
    "from sklearn.metrics import  ConfusionMatrixDisplay\n",
    "from sklearn.preprocessing import OneHotEncoder, LabelEncoder, StandardScaler\n",
    "from sklearn.compose import ColumnTransformer\n",
    "from sklearn.pipeline import Pipeline\n",
    "from sklearn.linear_model import LogisticRegression\n",
    "from sklearn.ensemble import RandomForestClassifier\n",
    "from sklearn.metrics import classification_report, roc_auc_score, confusion_matrix\n",
    "from transformers import DistilBertTokenizer, TFDistilBertForSequenceClassification\n",
    "import tensorflow as tf"
   ]
  },
  {
   "cell_type": "markdown",
   "id": "78d75d2b",
   "metadata": {},
   "source": [
    "### Carga de datos y división en train/test"
   ]
  },
  {
   "cell_type": "code",
   "execution_count": 5,
   "id": "5b59291e",
   "metadata": {},
   "outputs": [
    {
     "name": "stdout",
     "output_type": "stream",
     "text": [
      "Dimensiones del dataset: (8469, 8)\n",
      "\n",
      "Primeras filas del dataset:\n"
     ]
    },
    {
     "name": "stderr",
     "output_type": "stream",
     "text": [
      "<>:2: SyntaxWarning: invalid escape sequence '\\C'\n",
      "<>:2: SyntaxWarning: invalid escape sequence '\\C'\n",
      "C:\\Users\\alexa\\AppData\\Local\\Temp\\ipykernel_23800\\3191167572.py:2: SyntaxWarning: invalid escape sequence '\\C'\n",
      "  data_entrenamiento = pd.read_csv('C:\\CC219-TP-TF-2024-2--CC92\\data\\data_limpia2.csv')\n"
     ]
    },
    {
     "data": {
      "text/html": [
       "<div>\n",
       "<style scoped>\n",
       "    .dataframe tbody tr th:only-of-type {\n",
       "        vertical-align: middle;\n",
       "    }\n",
       "\n",
       "    .dataframe tbody tr th {\n",
       "        vertical-align: top;\n",
       "    }\n",
       "\n",
       "    .dataframe thead th {\n",
       "        text-align: right;\n",
       "    }\n",
       "</style>\n",
       "<table border=\"1\" class=\"dataframe\">\n",
       "  <thead>\n",
       "    <tr style=\"text-align: right;\">\n",
       "      <th></th>\n",
       "      <th>Ticket Description</th>\n",
       "      <th>Ticket Priority</th>\n",
       "      <th>Ticket Channel</th>\n",
       "      <th>Urgency</th>\n",
       "      <th>Resolution_Time_Bin</th>\n",
       "      <th>Urgency_from_Text</th>\n",
       "      <th>Coincide</th>\n",
       "      <th>Urgency_Final</th>\n",
       "    </tr>\n",
       "  </thead>\n",
       "  <tbody>\n",
       "    <tr>\n",
       "      <th>0</th>\n",
       "      <td>bill code appreciate request website address d...</td>\n",
       "      <td>Critical</td>\n",
       "      <td>Social media</td>\n",
       "      <td>1</td>\n",
       "      <td>0</td>\n",
       "      <td>0</td>\n",
       "      <td>False</td>\n",
       "      <td>1</td>\n",
       "    </tr>\n",
       "    <tr>\n",
       "      <th>1</th>\n",
       "      <td>need change exist product face intermittent so...</td>\n",
       "      <td>Critical</td>\n",
       "      <td>Chat</td>\n",
       "      <td>1</td>\n",
       "      <td>0</td>\n",
       "      <td>0</td>\n",
       "      <td>False</td>\n",
       "      <td>1</td>\n",
       "    </tr>\n",
       "    <tr>\n",
       "      <th>2</th>\n",
       "      <td>face problem turn work fine yesterday doesnt r...</td>\n",
       "      <td>Low</td>\n",
       "      <td>Social media</td>\n",
       "      <td>0</td>\n",
       "      <td>0</td>\n",
       "      <td>0</td>\n",
       "      <td>True</td>\n",
       "      <td>0</td>\n",
       "    </tr>\n",
       "    <tr>\n",
       "      <th>3</th>\n",
       "      <td>problem youre interested love see happen check...</td>\n",
       "      <td>Low</td>\n",
       "      <td>Social media</td>\n",
       "      <td>0</td>\n",
       "      <td>0</td>\n",
       "      <td>0</td>\n",
       "      <td>True</td>\n",
       "      <td>0</td>\n",
       "    </tr>\n",
       "    <tr>\n",
       "      <th>4</th>\n",
       "      <td>note seller responsible damage delry game game...</td>\n",
       "      <td>Low</td>\n",
       "      <td>Email</td>\n",
       "      <td>0</td>\n",
       "      <td>0</td>\n",
       "      <td>0</td>\n",
       "      <td>True</td>\n",
       "      <td>0</td>\n",
       "    </tr>\n",
       "  </tbody>\n",
       "</table>\n",
       "</div>"
      ],
      "text/plain": [
       "                                  Ticket Description Ticket Priority  \\\n",
       "0  bill code appreciate request website address d...        Critical   \n",
       "1  need change exist product face intermittent so...        Critical   \n",
       "2  face problem turn work fine yesterday doesnt r...             Low   \n",
       "3  problem youre interested love see happen check...             Low   \n",
       "4  note seller responsible damage delry game game...             Low   \n",
       "\n",
       "  Ticket Channel  Urgency  Resolution_Time_Bin  Urgency_from_Text  Coincide  \\\n",
       "0   Social media        1                    0                  0     False   \n",
       "1           Chat        1                    0                  0     False   \n",
       "2   Social media        0                    0                  0      True   \n",
       "3   Social media        0                    0                  0      True   \n",
       "4          Email        0                    0                  0      True   \n",
       "\n",
       "   Urgency_Final  \n",
       "0              1  \n",
       "1              1  \n",
       "2              0  \n",
       "3              0  \n",
       "4              0  "
      ]
     },
     "execution_count": 5,
     "metadata": {},
     "output_type": "execute_result"
    }
   ],
   "source": [
    "# Cargar el dataset limpio\n",
    "data_entrenamiento = pd.read_csv('C:\\CC219-TP-TF-2024-2--CC92\\data\\data_limpia2.csv')\n",
    "\n",
    "# Revisar el dataset\n",
    "print(\"Dimensiones del dataset:\", data_entrenamiento.shape)\n",
    "print(\"\\nPrimeras filas del dataset:\")\n",
    "data_entrenamiento.head()"
   ]
  },
  {
   "cell_type": "code",
   "execution_count": 6,
   "id": "3243e865",
   "metadata": {},
   "outputs": [
    {
     "name": "stdout",
     "output_type": "stream",
     "text": [
      "Características para Urgency: ['Ticket Description', 'Ticket Channel', 'Ticket Priority']\n",
      "Características para Time: ['Ticket Description', 'Ticket Priority', 'Ticket Channel']\n"
     ]
    }
   ],
   "source": [
    "data_entrenamiento['Ticket Description'] = data_entrenamiento['Ticket Description'].fillna('')\n",
    "data_entrenamiento['Ticket Priority'] = data_entrenamiento['Ticket Priority'].fillna('Desconocido')\n",
    "data_entrenamiento['Ticket Channel'] = data_entrenamiento['Ticket Channel'].fillna('Desconocido')\n",
    "\n",
    "X_urgency = data_entrenamiento[[\"Ticket Description\", \"Ticket Channel\", 'Ticket Priority']]\n",
    "y_urgency = data_entrenamiento['Urgency_Final']\n",
    "\n",
    "X_time = data_entrenamiento[['Ticket Description', 'Ticket Priority', 'Ticket Channel']]\n",
    "y_time = data_entrenamiento['Resolution_Time_Bin']\n",
    "\n",
    "X_train_urgency, X_test_urgency, y_train_urgency, y_test_urgency = train_test_split(\n",
    "    X_urgency, y_urgency, test_size=0.2, random_state=42, stratify=y_urgency\n",
    ")\n",
    "\n",
    "X_train_time, X_test_time, y_train_time, y_test_time = train_test_split(\n",
    "    X_time, y_time, test_size=0.2, random_state=42, stratify=y_time\n",
    ")\n",
    "\n",
    "print(f\"Características para Urgency: {list(X_urgency.columns)}\")\n",
    "print(f\"Características para Time: {list(X_time.columns)}\")"
   ]
  },
  {
   "cell_type": "markdown",
   "id": "2cb094d7",
   "metadata": {},
   "source": [
    "# Entrenamiento de Modelos"
   ]
  },
  {
   "cell_type": "markdown",
   "id": "2134dd0b",
   "metadata": {},
   "source": [
    "### Pipeline clásico: TF‑IDF + Regresión Logística"
   ]
  },
  {
   "cell_type": "markdown",
   "id": "7cc85f39",
   "metadata": {},
   "source": [
    "##### 1. Definición del preprocesador"
   ]
  },
  {
   "cell_type": "code",
   "execution_count": 7,
   "id": "815e40c1",
   "metadata": {},
   "outputs": [
    {
     "name": "stdout",
     "output_type": "stream",
     "text": [
      "Preprocesador 'preprocessor_urgency' creado.\n",
      "Preprocesador 'preprocessor_time' creado.\n"
     ]
    }
   ],
   "source": [
    "# `ColumnTransformer` que aplique:\n",
    "    # TF-IDF en `Ticket Description`.\n",
    "    # One-Hot Encoding en variables categóricas adicionales.\n",
    "# --- Celda para Definir Preprocesadores ---\n",
    "\n",
    "# Preprocesador para la tarea de 'Urgency'\n",
    "# Solo maneja 'Ticket Description' y 'Ticket Channel'\n",
    "# Vectorización con bigramas y límite de características\n",
    "text_transformer = TfidfVectorizer(\n",
    "    max_features=5000,\n",
    "    stop_words='english',\n",
    "    ngram_range=(1, 2)\n",
    ")\n",
    "\n",
    "# Codificación de variables categóricas\n",
    "categorical_transformer = OneHotEncoder(handle_unknown='ignore')\n",
    "\n",
    "# Combinar ambas transformaciones\n",
    "preprocessor_urgency = ColumnTransformer(\n",
    "    transformers=[\n",
    "        ('tfidf', text_transformer, 'Ticket Description'),\n",
    "        ('cat', categorical_transformer, ['Ticket Channel', 'Ticket Priority'])\n",
    "    ])\n",
    "print(\"Preprocesador 'preprocessor_urgency' creado.\")\n",
    "\n",
    "\n",
    "# Preprocesador para la tarea de 'Time'\n",
    "# Maneja 'Ticket Description', 'Ticket Priority' y 'Ticket Channel'\n",
    "# Preprocesador para la tarea de 'Resolution_Time_Bin'\n",
    "text_transformer_time = TfidfVectorizer(\n",
    "    max_features=5000,\n",
    "    stop_words='english',\n",
    "    ngram_range=(1, 2)\n",
    ")\n",
    "\n",
    "categorical_transformer_time = OneHotEncoder(handle_unknown='ignore')\n",
    "\n",
    "preprocessor_time = ColumnTransformer(\n",
    "    transformers=[\n",
    "        ('tfidf', text_transformer_time, 'Ticket Description'),\n",
    "        ('cat', categorical_transformer_time, ['Ticket Priority', 'Ticket Channel'])\n",
    "    ],\n",
    "    remainder='drop'\n",
    ")\n",
    "print(\"Preprocesador 'preprocessor_time' creado.\")"
   ]
  },
  {
   "cell_type": "markdown",
   "id": "2d1b4dde",
   "metadata": {},
   "source": [
    " El objetivo de este código es preparar y \"traducir\" los datos para que un modelo de Machine Learning los pueda entender.\n",
    "\n",
    " 1. Definimos las Columnas: Primero le decimos al código con qué columnas vamos a trabajar: una de texto y uno a dos categorías dependiendo del preprocesador.\n",
    "\n",
    " 2. Creamos el Organizador: El ColumnTransformer funciona como un organizador que sabe aplicar una regla distinta a cada tipo de columna.\n",
    " 3. Asignamos las Reglas de \"Traducción\":\n",
    "     • Para el texto: Usamos TfidfVectorizer para convertir las descripciones de los tickets en 5000 columnas de números que miden la importancia de las palabras.\n",
    "     • Para las categorías: Usamos OneHotEncoder para convertir categorías< en columnas de 0s y 1s.\n",
    "\n"
   ]
  },
  {
   "cell_type": "markdown",
   "id": "63761f3b",
   "metadata": {},
   "source": [
    "##### 2.  Construcción del pipeline"
   ]
  },
  {
   "cell_type": "code",
   "execution_count": 8,
   "id": "ff1dc77e",
   "metadata": {},
   "outputs": [
    {
     "name": "stdout",
     "output_type": "stream",
     "text": [
      "Pipeline 'pipeline_urgency' creado.\n",
      "Pipeline(steps=[('preprocessor',\n",
      "                 ColumnTransformer(transformers=[('tfidf',\n",
      "                                                  TfidfVectorizer(max_features=5000,\n",
      "                                                                  ngram_range=(1,\n",
      "                                                                               2),\n",
      "                                                                  stop_words='english'),\n",
      "                                                  'Ticket Description'),\n",
      "                                                 ('cat',\n",
      "                                                  OneHotEncoder(handle_unknown='ignore'),\n",
      "                                                  ['Ticket Channel',\n",
      "                                                   'Ticket Priority'])])),\n",
      "                ('classifier',\n",
      "                 RandomForestClassifier(class_weight='balanced'))])\n",
      "Pipeline 'pipeline_time' creado.\n",
      "Pipeline(steps=[('preprocessor',\n",
      "                 ColumnTransformer(transformers=[('tfidf',\n",
      "                                                  TfidfVectorizer(max_features=5000,\n",
      "                                                                  ngram_range=(1,\n",
      "                                                                               2),\n",
      "                                                                  stop_words='english'),\n",
      "                                                  'Ticket Description'),\n",
      "                                                 ('cat',\n",
      "                                                  OneHotEncoder(handle_unknown='ignore'),\n",
      "                                                  ['Ticket Priority',\n",
      "                                                   'Ticket Channel'])])),\n",
      "                ('scaler', StandardScaler(with_mean=False)),\n",
      "                ('classifier',\n",
      "                 LogisticRegression(class_weight='balanced', max_iter=1000,\n",
      "                                    random_state=42, solver='saga'))])\n"
     ]
    }
   ],
   "source": [
    "# Encadenar preprocesador con `LogisticRegression`.\n",
    "\n",
    "# 1. Construcción del Pipeline para 'Urgency'\n",
    "#    Le pasamos su preprocesador específico: preprocessor_urgency\n",
    "pipeline_urgency = Pipeline(steps=[\n",
    "    ('preprocessor', preprocessor_urgency),\n",
    "    ('classifier', RandomForestClassifier(class_weight='balanced'))\n",
    "])\n",
    "\n",
    "# 2. Construcción del Pipeline para 'Time'\n",
    "#    Le pasamos su propio preprocesador: preprocessor_time\n",
    "#    Y mantenemos los parámetros que habían mejorado el recall\n",
    "pipeline_time = Pipeline(steps=[\n",
    "    ('preprocessor', preprocessor_time),\n",
    "    ('scaler', StandardScaler(with_mean=False)), # <-- NUEVO PASO DE ESCALADO\n",
    "    ('classifier', LogisticRegression(\n",
    "        random_state=42,\n",
    "        max_iter=1000, # Podemos volver al valor original, el escalado debería ser suficiente\n",
    "        class_weight='balanced',\n",
    "        solver='saga'\n",
    "    ))\n",
    "])\n",
    "\n",
    "print(\"Pipeline 'pipeline_urgency' creado.\")\n",
    "print(pipeline_urgency)\n",
    "print(\"Pipeline 'pipeline_time' creado.\")\n",
    "print(pipeline_time)\n",
    "\n"
   ]
  },
  {
   "cell_type": "markdown",
   "id": "65c902be",
   "metadata": {},
   "source": [
    "En este paso, estamos construyendo dos Pipelines separados, uno para cada uno de nuestros objetivos de predicción.\n",
    "\n",
    "pipeline_urgency: Esta es la \"cadena de montaje\" diseñada para la tarea de predecir si un ticket es urgente o no. Conecta nuestro preprocessor con un modelo de LogisticRegression.\n",
    "\n",
    "pipeline_time: Esta es la segunda \"cadena de montaje\", idéntica a la anterior, pero la usaremos para la tarea de predecir el tiempo de resolución del ticket."
   ]
  },
  {
   "cell_type": "markdown",
   "id": "98ea9e70",
   "metadata": {},
   "source": [
    "##### 3.  Entrenamiento"
   ]
  },
  {
   "cell_type": "code",
   "execution_count": 9,
   "id": "8938ef9b",
   "metadata": {},
   "outputs": [
    {
     "name": "stdout",
     "output_type": "stream",
     "text": [
      "Iniciando entrenamiento del pipeline para 'Urgency'...\n",
      "Entrenamiento para 'Urgency' completado.\n",
      "\n",
      "Iniciando entrenamiento del pipeline para 'Time'...\n",
      "Entrenamiento para 'Time' completado.\n"
     ]
    },
    {
     "name": "stderr",
     "output_type": "stream",
     "text": [
      "C:\\Users\\alexa\\AppData\\Roaming\\Python\\Python312\\site-packages\\sklearn\\linear_model\\_sag.py:348: ConvergenceWarning: The max_iter was reached which means the coef_ did not converge\n",
      "  warnings.warn(\n"
     ]
    }
   ],
   "source": [
    "# Ajustar el pipeline a los datos de entrenamiento.\n",
    "print(\"Iniciando entrenamiento del pipeline para 'Urgency'...\")\n",
    "pipeline_urgency.fit(X_train_urgency, y_train_urgency)\n",
    "print(\"Entrenamiento para 'Urgency' completado.\")\n",
    "\n",
    "print(\"\\nIniciando entrenamiento del pipeline para 'Time'...\")\n",
    "pipeline_time.fit(X_train_time, y_train_time)\n",
    "print(\"Entrenamiento para 'Time' completado.\")"
   ]
  },
  {
   "cell_type": "markdown",
   "id": "03407f70",
   "metadata": {},
   "source": [
    " Al ejecutar el comando .fit(), cada pipeline realiza su cadena de montaje completa:\n",
    "\n",
    "pipeline_urgency.fit(...): Esta línea toma los datos de entrenamiento de urgencia (X_train_urgency y y_train_urgency), los pasa por el preprocessor para convertirlos en números, y luego usa esos números para que el modelo LogisticRegression aprenda los patrones que diferencian a un ticket urgente de uno no urgente.\n",
    "\n",
    "pipeline_time.fit(...): Sucede exactamente lo mismo, pero con los datos de tiempo. El pipeline procesa los datos y entrena al segundo modelo LogisticRegression para que aprenda a distinguir entre los tickets que se resuelven rápido y los que no.\n",
    "\n",
    "Al finalizar este código, ambos pipelines ya están entrenados y listos para hacer predicciones con datos nuevos."
   ]
  },
  {
   "cell_type": "markdown",
   "id": "6da93716",
   "metadata": {},
   "source": [
    "##### 4.  Evaluación"
   ]
  },
  {
   "cell_type": "code",
   "execution_count": 10,
   "id": "5a92cb30",
   "metadata": {},
   "outputs": [
    {
     "name": "stdout",
     "output_type": "stream",
     "text": [
      "--- Evaluación del Modelo de Urgencia (v2) ---\n",
      "\n",
      "Reporte de Clasificación (Urgency):\n",
      "                precision    recall  f1-score   support\n",
      "\n",
      "No Urgente (0)       0.99      0.98      0.99       780\n",
      "   Urgente (1)       0.99      0.99      0.99       914\n",
      "\n",
      "      accuracy                           0.99      1694\n",
      "     macro avg       0.99      0.99      0.99      1694\n",
      "  weighted avg       0.99      0.99      0.99      1694\n",
      "\n",
      "ROC-AUC (Urgency): 0.9986\n",
      "\n",
      "==================================================\n",
      "\n",
      "--- Evaluación del Modelo de Tiempo (Ajustado) ---\n",
      "\n",
      "Reporte de Clasificación (Time):\n",
      "              precision    recall  f1-score   support\n",
      "\n",
      "Toma >1h (0)       0.96      0.92      0.94      1628\n",
      "Toma <1h (1)       0.06      0.14      0.09        66\n",
      "\n",
      "    accuracy                           0.89      1694\n",
      "   macro avg       0.51      0.53      0.51      1694\n",
      "weighted avg       0.93      0.89      0.91      1694\n",
      "\n",
      "ROC-AUC (Time): 0.4967\n"
     ]
    }
   ],
   "source": [
    "# Generar predicciones en test.\n",
    "# Calcular métricas: accuracy, precision, recall, F1-score y ROC-AUC.\n",
    "print(\"--- Evaluación del Modelo de Urgencia (v2) ---\")\n",
    "# Usamos los datos v2, que no tienen la fuga de datos\n",
    "y_pred_urgency = pipeline_urgency.predict(X_test_urgency)\n",
    "y_pred_proba_urgency = pipeline_urgency.predict_proba(X_test_urgency)[:, 1]\n",
    "\n",
    "# Calcular y mostrar las métricas\n",
    "print(\"\\nReporte de Clasificación (Urgency):\")\n",
    "print(classification_report(y_test_urgency, y_pred_urgency, target_names=['No Urgente (0)', 'Urgente (1)']))\n",
    "\n",
    "roc_auc = roc_auc_score(y_test_urgency, y_pred_proba_urgency)\n",
    "print(f\"ROC-AUC (Urgency): {roc_auc:.4f}\")\n",
    "\n",
    "\n",
    "print(\"\\n\" + \"=\"*50 + \"\\n\")\n",
    "\n",
    "\n",
    "# --- 2. Evaluación del Pipeline de 'Time' (Versión Ajustada) ---\n",
    "\n",
    "print(\"--- Evaluación del Modelo de Tiempo (Ajustado) ---\")\n",
    "# Usamos los datos originales de la tarea de tiempo\n",
    "y_pred_time = pipeline_time.predict(X_test_time)\n",
    "y_pred_proba_time = pipeline_time.predict_proba(X_test_time)[:, 1]\n",
    "\n",
    "# Calcular y mostrar las métricas\n",
    "print(\"\\nReporte de Clasificación (Time):\")\n",
    "print(classification_report(y_test_time, y_pred_time, target_names=['Toma >1h (0)', 'Toma <1h (1)']))\n",
    "\n",
    "roc_auc_t = roc_auc_score(y_test_time, y_pred_proba_time)\n",
    "print(f\"ROC-AUC (Time): {roc_auc_t:.4f}\")"
   ]
  },
  {
   "cell_type": "code",
   "execution_count": 13,
   "id": "c2b6b944",
   "metadata": {},
   "outputs": [
    {
     "data": {
      "image/png": "[encoded data removed]",
      "text/plain": [
       "<Figure size 640x480 with 2 Axes>"
      ]
     },
     "metadata": {},
     "output_type": "display_data"
    }
   ],
   "source": [
    "# Matriz de confusión para Urgency\n",
    "cm_urgency = confusion_matrix(y_test_urgency, y_pred_urgency)\n",
    "disp_urgency = ConfusionMatrixDisplay(confusion_matrix=cm_urgency, display_labels=['No Urgente (0)', 'Urgente (1)'])\n",
    "disp_urgency.plot(cmap='Blues')\n",
    "plt.show()"
   ]
  },
  {
   "cell_type": "code",
   "execution_count": 15,
   "id": "9b4ac40f",
   "metadata": {},
   "outputs": [
    {
     "name": "stdout",
     "output_type": "stream",
     "text": [
      "=== Validación cruzada para URGENCY ===\n",
      "Accuracy: 0.9879\n",
      "Precision: 0.9846\n",
      "Recall: 0.9932\n",
      "F1: 0.9888\n",
      "Roc_auc: 0.9969\n"
     ]
    }
   ],
   "source": [
    "from sklearn.model_selection import cross_val_score, cross_validate\n",
    "from sklearn.metrics import make_scorer, accuracy_score, precision_score, recall_score, f1_score, roc_auc_score\n",
    "import numpy as np\n",
    "\n",
    "scoring = {\n",
    "    'accuracy': 'accuracy',\n",
    "    'precision': 'precision',\n",
    "    'recall': 'recall',\n",
    "    'f1': 'f1',\n",
    "    'roc_auc': 'roc_auc'  # esta funciona bien sin custom scorer\n",
    "}\n",
    "\n",
    "print(\"=== Validación cruzada para URGENCY ===\")\n",
    "cv_results_urgency = cross_validate(\n",
    "    pipeline_urgency,\n",
    "    X_train_urgency,\n",
    "    y_train_urgency,\n",
    "    cv=5,  # número de folds\n",
    "    scoring=scoring,\n",
    "    return_train_score=False\n",
    ")\n",
    "\n",
    "# Mostrar resultados promedio\n",
    "for metric in scoring.keys():\n",
    "    print(f\"{metric.capitalize()}: {np.mean(cv_results_urgency[f'test_{metric}']):.4f}\")\n"
   ]
  },
  {
   "cell_type": "markdown",
   "id": "fb2eb39b",
   "metadata": {},
   "source": [
    "(explicación de que se hace y si se imprime algo significa)"
   ]
  },
  {
   "cell_type": "markdown",
   "id": "e066a42d",
   "metadata": {},
   "source": [
    "#### Insight 1: Priorización ineficiente  \n",
    "Al ajustar `class_weight='balanced'` en el clasificador, reforzamos la detección de tickets críticos.  \n",
    "**Resultados:** _(completar con métricas: precision, recall, F1 para la clase “Urgente”)_\n",
    "\n",
    "#### Insight 2: Desempeño por canal  \n",
    "La inclusión de `Ticket Channel` permite al modelo adaptar sus predicciones según el canal de entrada.  \n",
    "**Resultados:** _(completar con comparación de métricas por canal o ejemplos de casos “Chat” vs. “Email”)_\n",
    "\n",
    "#### Insight 3: Temas recurrentes  \n",
    "TF-IDF resalta las palabras clave que anticipan urgencia, capturando problemas frecuentes.  \n",
    "**Resultados:** _(completar con lista de términos más frecuentes o imagen de nube de palabras)_\n"
   ]
  },
  {
   "cell_type": "markdown",
   "id": "19199d3b",
   "metadata": {},
   "source": [
    "### Pipeline moderno: DistilBERT Fine‑Tuning"
   ]
  },
  {
   "cell_type": "markdown",
   "id": "cd504e9c",
   "metadata": {},
   "source": [
    "##### 1. Preparación de datos"
   ]
  },
  {
   "cell_type": "code",
   "execution_count": null,
   "id": "651708c3",
   "metadata": {},
   "outputs": [],
   "source": [
    "# Tokenizar descripciones con `DistilBertTokenizer`.\n",
    "# Codificar etiquetas con `LabelEncoder`.\n",
    "\n",
    "tokenizer = DistilBertTokenizer.from_pretrained('distilbert-base-uncased')\n",
    "train_encodings_urgency = tokenizer(\n",
    "    list(X_train_urgency['Ticket Description']),\n",
    "    truncation=True,\n",
    "    padding=True,\n",
    "    max_length=128,\n",
    "    return_tensors='tf'\n",
    ")\n",
    "test_encodings_urgency = tokenizer(\n",
    "    list(X_test_urgency['Ticket Description']),\n",
    "    truncation=True,\n",
    "    padding=True,\n",
    "    max_length=128,\n",
    "    return_tensors='tf'\n",
    ")\n",
    "\n",
    "train_labels_urgency = np.array(y_train_urgency)\n",
    "test_labels_urgency = np.array(y_test_urgency)\n",
    "\n",
    "\n",
    "train_encodings_time = tokenizer(\n",
    "    list(X_train_time['Ticket Description']),\n",
    "    truncation=True,\n",
    "    padding=True,\n",
    "    max_length=128,\n",
    "    return_tensors='tf'\n",
    ")\n",
    "test_encodings_time = tokenizer(\n",
    "    list(X_test_time['Ticket Description']),\n",
    "    truncation=True,\n",
    "    padding=True,\n",
    "    max_length=128,\n",
    "    return_tensors='tf'\n",
    ")\n",
    "train_labels_time = np.array(y_train_time)\n",
    "test_labels_time = np.array(y_test_time)\n"
   ]
  },
  {
   "cell_type": "markdown",
   "id": "bd4208a8",
   "metadata": {},
   "source": [
    "(explicación de que se hace y si se imprime algo significa)"
   ]
  },
  {
   "cell_type": "markdown",
   "id": "55319e18",
   "metadata": {},
   "source": [
    "##### 2. Preparación de datasets de entrenamiento"
   ]
  },
  {
   "cell_type": "code",
   "execution_count": null,
   "id": "9990ae5f",
   "metadata": {},
   "outputs": [],
   "source": [
    "# Generar `tf.data.Dataset` (TensorFlow) o `DataLoader` (PyTorch) a partir de los encodings y etiquetas\n",
    "# Convertir encodings y etiquetas en `tf.data.Dataset` o `DataLoader` de PyTorch.\n",
    "\n",
    "\n",
    "train_dataset_urgency = tf.data.Dataset.from_tensor_slices((\n",
    "    dict(train_encodings_urgency),\n",
    "    train_labels_urgency\n",
    ")).shuffle(1000).batch(16)\n",
    "\n",
    "\n",
    "test_dataset_urgency = tf.data.Dataset.from_tensor_slices((\n",
    "    dict(test_encodings_urgency),\n",
    "    test_labels_urgency\n",
    ")).batch(16)\n",
    "\n",
    "train_dataset_time = tf.data.Dataset.from_tensor_slices((\n",
    "    dict(train_encodings_time),\n",
    "    train_labels_time\n",
    ")).shuffle(1000).batch(16)\n",
    "\n",
    "test_dataset_time = tf.data.Dataset.from_tensor_slices((\n",
    "    dict(test_encodings_time),\n",
    "    test_labels_time\n",
    ")).batch(16)"
   ]
  },
  {
   "cell_type": "markdown",
   "id": "5a1283aa",
   "metadata": {},
   "source": [
    "(explicación de que se hace y si se imprime algo significa)"
   ]
  },
  {
   "cell_type": "markdown",
   "id": "3a56590a",
   "metadata": {},
   "source": [
    "##### 3. Configuración del modelo"
   ]
  },
  {
   "cell_type": "code",
   "execution_count": null,
   "id": "1160e190",
   "metadata": {},
   "outputs": [],
   "source": [
    "# Cargar `TFDistilBertForSequenceClassification` con número de clases.\n",
    "# Compilar (TF) o definir optimizador (PyTorch).\n",
    "\n",
    "model_urgency = TFDistilBertForSequenceClassification.from_pretrained(\n",
    "    'distilbert-base-uncased', num_labels=2\n",
    ")\n",
    "\n",
    "optimizer_urgency = tf.keras.optimizers.Adam(learning_rate=5e-5)\n",
    "loss_urgency = tf.keras.losses.SparseCategoricalCrossentropy(from_logits=True)\n",
    "\n",
    "model_urgency.compile(\n",
    "    optimizer=optimizer_urgency,\n",
    "    loss=loss_urgency,\n",
    "    metrics=['accuracy']\n",
    ")\n",
    "\n",
    "model_time = TFDistilBertForSequenceClassification.from_pretrained(\n",
    "    'distilbert-base-uncased', num_labels=2\n",
    ")\n",
    "\n",
    "optimizer_time = tf.keras.optimizers.Adam(learning_rate=5e-5)\n",
    "loss_time = tf.keras.losses.SparseCategoricalCrossentropy(from_logits=True)\n",
    "\n",
    "model_time.compile(\n",
    "    optimizer=optimizer_time,\n",
    "    loss=loss_time,\n",
    "    metrics = ['accuracy']\n",
    ")"
   ]
  },
  {
   "cell_type": "markdown",
   "id": "2ebaf787",
   "metadata": {},
   "source": [
    "(explicación de que se hace y si se imprime algo significa)"
   ]
  },
  {
   "cell_type": "markdown",
   "id": "75881ec4",
   "metadata": {},
   "source": [
    "##### 4. Entrenamiento del modelo"
   ]
  },
  {
   "cell_type": "code",
   "execution_count": null,
   "id": "3902f13a",
   "metadata": {},
   "outputs": [],
   "source": [
    "# Fine-tuning por varias épocas con validación.\n",
    "\n",
    "# --- Celda 4: Entrenamiento (Fine-Tuning) de los Modelos ---\n",
    "\n",
    "# Definimos el número de épocas (vueltas completas a los datos de entrenamiento)\n",
    "NUM_EPOCHS = 5\n",
    "\n",
    "# --- Entrenamiento del Modelo de Urgencia ---\n",
    "print(f\"Iniciando fine-tuning del modelo de 'Urgency' por {NUM_EPOCHS} épocas...\")\n",
    "history_urgency = model_urgency.fit(\n",
    "    train_dataset_urgency,\n",
    "    epochs=NUM_EPOCHS,\n",
    "    validation_data=test_dataset_urgency\n",
    ")\n",
    "print(\"Fine-tuning de 'Urgency' completado.\")\n",
    "\n",
    "\n",
    "# --- Entrenamiento del Modelo de Tiempo ---\n",
    "print(f\"\\nIniciando fine-tuning del modelo de 'Time' por {NUM_EPOCHS} épocas...\")\n",
    "history_time = model_time.fit(\n",
    "    train_dataset_time,\n",
    "    epochs=NUM_EPOCHS,\n",
    "    validation_data=test_dataset_time\n",
    ")\n",
    "print(\"Fine-tuning de 'Time' completado.\")"
   ]
  },
  {
   "cell_type": "markdown",
   "id": "f12fe74e",
   "metadata": {},
   "source": [
    "(explicación de que se hace y si se imprime algo significa)"
   ]
  },
  {
   "cell_type": "markdown",
   "id": "f37d07d2",
   "metadata": {},
   "source": [
    "##### 5. Evaluación"
   ]
  },
  {
   "cell_type": "code",
   "execution_count": null,
   "id": "ca0dc73d",
   "metadata": {},
   "outputs": [],
   "source": [
    "# Evaluar en el conjunto de prueba y reportar pérdida y exactitud."
   ]
  },
  {
   "cell_type": "markdown",
   "id": "3be36653",
   "metadata": {},
   "source": [
    "(explicación de que se hace y si se imprime algo significa)"
   ]
  },
  {
   "cell_type": "markdown",
   "id": "95f31491",
   "metadata": {},
   "source": [
    "#### 4.3.4 Insight 1: Priorización de respuesta rápida  \n",
    "El modelo de tiempo de resolución predice si un ticket recibirá respuesta en menos de una hora o no.  \n",
    "**Resultados:** _(completar con métricas: precision, recall, F1 para la clase “<1h”)_\n",
    "\n",
    "#### 4.3.5 Insight 2: Impacto del canal en la latencia  \n",
    "Incluir `Ticket Channel` permitió al modelo capturar diferencias en la rapidez de atención según el canal (por ejemplo, “Chat” vs. “Email”).  \n",
    "**Resultados:** _(completar con comparación de métricas por canal)_\n",
    "\n",
    "#### 4.3.6 Insight 3: Patrones de demora  \n",
    "TF‑IDF identifica términos asociados a demoras frecuentes (p. ej. “network”, “update”, “delay”).  \n",
    "**Resultados:** _(completar con lista de palabras clave o visualización de frecuencia)_"
   ]
  },
  {
   "cell_type": "markdown",
   "id": "01fd8fdf",
   "metadata": {},
   "source": [
    "### Comparativa de resultados"
   ]
  },
  {
   "cell_type": "code",
   "execution_count": null,
   "id": "1634159d",
   "metadata": {},
   "outputs": [],
   "source": [
    "# Métricas clave (precision, recall, F1, accuracy, ROC‑AUC) para cada enfoque.\n",
    "# Matriz de confusión de ambos modelos.\n",
    "# Graficar barras o tablas con precision, recall y F1-score."
   ]
  },
  {
   "cell_type": "markdown",
   "id": "986a6e7b",
   "metadata": {},
   "source": [
    "(explicación de cada resultado, tiempo de entrenamiento y requisitos de hardware.)"
   ]
  },
  {
   "cell_type": "markdown",
   "id": "abfa532e",
   "metadata": {},
   "source": [
    "### Guardado del modelo seleccionado"
   ]
  },
  {
   "cell_type": "code",
   "execution_count": null,
   "id": "fe1e33fc",
   "metadata": {},
   "outputs": [],
   "source": [
    "# Según la comparativa, decidir el mejor modelo para producción.\n",
    "# Guardar el pipeline clásico con `joblib.dump`.\n",
    "# Guardar el modelo DistilBERT con `model.save_pretrained` y el tokenizer."
   ]
  }
 ],
 "metadata": {
  "kernelspec": {
   "display_name": "Python 3",
   "language": "python",
   "name": "python3"
  },
  "language_info": {
   "codemirror_mode": {
    "name": "ipython",
    "version": 3
   },
   "file_extension": ".py",
   "mimetype": "text/x-python",
   "name": "python",
   "nbconvert_exporter": "python",
   "pygments_lexer": "ipython3",
   "version": "3.12.6"
  }
 },
 "nbformat": 4,
 "nbformat_minor": 5
}
