{
 "cells": [
  {
   "cell_type": "markdown",
   "id": "8c3d22cf",
   "metadata": {},
   "source": [
    "# Parte 4: Clasificación de Tickets usando NLP"
   ]
  },
  {
   "cell_type": "markdown",
   "id": "a8261277",
   "metadata": {},
   "source": [
    "El modelado busca desarrollar clasificadores que automaticen el triage de tickets de soporte a partir del texto libre. Esta etapa es fundamental para traducir la información no estructurada en decisiones útiles para el negocio. Los objetivos principales son:\n",
    "\n",
    "- Entrenar modelos supervisados que aprendan a predecir la categoría de un ticket en base a su descripción textual.\n",
    "- Comparar dos enfoques: uno tradicional basado en TF-IDF + modelo clásico (Logistic Regression) y otro moderno basado en el fine-tuning de DistilBERT.\n",
    "- Evaluar el rendimiento de ambos enfoques utilizando métricas como precisión, recall y F1-score.\n",
    "- Detectar fortalezas y limitaciones de cada método para entender cuál se adapta mejor al problema.\n",
    "- Identificar oportunidades de mejora y ajustes en el pipeline de procesamiento y modelado.\n",
    "- Seleccionar el modelo más robusto para su futura implementación como sistema automatizado de clasificación."
   ]
  },
  {
   "cell_type": "markdown",
   "id": "6c56c6dd",
   "metadata": {},
   "source": [
    "### Importar librerías y Configuración Inicial"
   ]
  },
  {
   "cell_type": "code",
   "execution_count": 59,
   "id": "5df01d94",
   "metadata": {},
   "outputs": [
    {
     "name": "stdout",
     "output_type": "stream",
     "text": [
      "Defaulting to user installation because normal site-packages is not writeable\n",
      "Requirement already satisfied: transformers in c:\\users\\alexa\\appdata\\roaming\\python\\python312\\site-packages (4.53.0)\n",
      "Requirement already satisfied: torch in c:\\users\\alexa\\appdata\\roaming\\python\\python312\\site-packages (2.7.1)\n",
      "Requirement already satisfied: filelock in c:\\users\\alexa\\appdata\\roaming\\python\\python312\\site-packages (from transformers) (3.18.0)\n",
      "Requirement already satisfied: huggingface-hub<1.0,>=0.30.0 in c:\\users\\alexa\\appdata\\roaming\\python\\python312\\site-packages (from transformers) (0.33.2)\n",
      "Requirement already satisfied: numpy>=1.17 in c:\\users\\alexa\\appdata\\roaming\\python\\python312\\site-packages (from transformers) (2.2.6)\n",
      "Requirement already satisfied: packaging>=20.0 in c:\\users\\alexa\\appdata\\roaming\\python\\python312\\site-packages (from transformers) (24.2)\n",
      "Requirement already satisfied: pyyaml>=5.1 in c:\\users\\alexa\\appdata\\roaming\\python\\python312\\site-packages (from transformers) (6.0.2)\n",
      "Requirement already satisfied: regex!=2019.12.17 in c:\\users\\alexa\\appdata\\roaming\\python\\python312\\site-packages (from transformers) (2024.11.6)\n",
      "Requirement already satisfied: requests in c:\\users\\alexa\\appdata\\roaming\\python\\python312\\site-packages (from transformers) (2.32.3)\n",
      "Requirement already satisfied: tokenizers<0.22,>=0.21 in c:\\users\\alexa\\appdata\\roaming\\python\\python312\\site-packages (from transformers) (0.21.2)\n",
      "Requirement already satisfied: safetensors>=0.4.3 in c:\\users\\alexa\\appdata\\roaming\\python\\python312\\site-packages (from transformers) (0.5.3)\n",
      "Requirement already satisfied: tqdm>=4.27 in c:\\users\\alexa\\appdata\\roaming\\python\\python312\\site-packages (from transformers) (4.67.1)\n",
      "Requirement already satisfied: fsspec>=2023.5.0 in c:\\users\\alexa\\appdata\\roaming\\python\\python312\\site-packages (from huggingface-hub<1.0,>=0.30.0->transformers) (2025.5.1)\n",
      "Requirement already satisfied: typing-extensions>=3.7.4.3 in c:\\users\\alexa\\appdata\\roaming\\python\\python312\\site-packages (from huggingface-hub<1.0,>=0.30.0->transformers) (4.13.1)\n",
      "Requirement already satisfied: sympy>=1.13.3 in c:\\users\\alexa\\appdata\\roaming\\python\\python312\\site-packages (from torch) (1.14.0)\n",
      "Requirement already satisfied: networkx in c:\\users\\alexa\\appdata\\roaming\\python\\python312\\site-packages (from torch) (3.5)\n",
      "Requirement already satisfied: jinja2 in c:\\users\\alexa\\appdata\\roaming\\python\\python312\\site-packages (from torch) (3.1.6)\n",
      "Requirement already satisfied: setuptools in c:\\users\\alexa\\appdata\\roaming\\python\\python312\\site-packages (from torch) (78.1.0)\n",
      "Requirement already satisfied: mpmath<1.4,>=1.1.0 in c:\\users\\alexa\\appdata\\roaming\\python\\python312\\site-packages (from sympy>=1.13.3->torch) (1.3.0)\n",
      "Requirement already satisfied: colorama in c:\\users\\alexa\\appdata\\roaming\\python\\python312\\site-packages (from tqdm>=4.27->transformers) (0.4.6)\n",
      "Requirement already satisfied: MarkupSafe>=2.0 in c:\\users\\alexa\\appdata\\roaming\\python\\python312\\site-packages (from jinja2->torch) (3.0.2)\n",
      "Requirement already satisfied: charset-normalizer<4,>=2 in c:\\users\\alexa\\appdata\\roaming\\python\\python312\\site-packages (from requests->transformers) (3.4.1)\n",
      "Requirement already satisfied: idna<4,>=2.5 in c:\\users\\alexa\\appdata\\roaming\\python\\python312\\site-packages (from requests->transformers) (3.10)\n",
      "Requirement already satisfied: urllib3<3,>=1.21.1 in c:\\users\\alexa\\appdata\\roaming\\python\\python312\\site-packages (from requests->transformers) (2.3.0)\n",
      "Requirement already satisfied: certifi>=2017.4.17 in c:\\users\\alexa\\appdata\\roaming\\python\\python312\\site-packages (from requests->transformers) (2025.1.31)\n"
     ]
    }
   ],
   "source": [
    "!pip install transformers torch"
   ]
  },
  {
   "cell_type": "code",
   "execution_count": null,
   "id": "178a8cf3",
   "metadata": {},
   "outputs": [],
   "source": [
    "import pandas as pd\n",
    "import numpy as np\n",
    "import re\n",
    "import torch\n",
    "from collections import Counter\n",
    "from sklearn.model_selection import train_test_split\n",
    "from sklearn.feature_extraction.text import TfidfVectorizer\n",
    "from sklearn.preprocessing import OneHotEncoder, LabelEncoder\n",
    "from sklearn.compose import ColumnTransformer\n",
    "from sklearn.pipeline import Pipeline\n",
    "from sklearn.linear_model import LogisticRegression\n",
    "from sklearn.metrics import classification_report, roc_auc_score, confusion_matrix\n",
    "from transformers import DistilBertTokenizer, TFDistilBertForSequenceClassification\n",
    "import tensorflow as tf"
   ]
  },
  {
   "cell_type": "markdown",
   "id": "78d75d2b",
   "metadata": {},
   "source": [
    "### Carga de datos y división en train/test"
   ]
  },
  {
   "cell_type": "code",
   "execution_count": 77,
   "id": "5b59291e",
   "metadata": {},
   "outputs": [
    {
     "name": "stderr",
     "output_type": "stream",
     "text": [
      "<>:2: SyntaxWarning: invalid escape sequence '\\C'\n",
      "<>:2: SyntaxWarning: invalid escape sequence '\\C'\n",
      "C:\\Users\\alexa\\AppData\\Local\\Temp\\ipykernel_20924\\3191167572.py:2: SyntaxWarning: invalid escape sequence '\\C'\n",
      "  data_entrenamiento = pd.read_csv('C:\\CC219-TP-TF-2024-2--CC92\\data\\data_limpia2.csv')\n"
     ]
    },
    {
     "name": "stdout",
     "output_type": "stream",
     "text": [
      "Dimensiones del dataset: (8469, 5)\n",
      "\n",
      "Primeras filas del dataset:\n"
     ]
    },
    {
     "data": {
      "text/html": [
       "<div>\n",
       "<style scoped>\n",
       "    .dataframe tbody tr th:only-of-type {\n",
       "        vertical-align: middle;\n",
       "    }\n",
       "\n",
       "    .dataframe tbody tr th {\n",
       "        vertical-align: top;\n",
       "    }\n",
       "\n",
       "    .dataframe thead th {\n",
       "        text-align: right;\n",
       "    }\n",
       "</style>\n",
       "<table border=\"1\" class=\"dataframe\">\n",
       "  <thead>\n",
       "    <tr style=\"text-align: right;\">\n",
       "      <th></th>\n",
       "      <th>Ticket Description</th>\n",
       "      <th>Ticket Priority</th>\n",
       "      <th>Ticket Channel</th>\n",
       "      <th>Urgency</th>\n",
       "      <th>Resolution_Time_Bin</th>\n",
       "    </tr>\n",
       "  </thead>\n",
       "  <tbody>\n",
       "    <tr>\n",
       "      <th>0</th>\n",
       "      <td>billing code appreciate requested website addr...</td>\n",
       "      <td>Critical</td>\n",
       "      <td>Social media</td>\n",
       "      <td>1</td>\n",
       "      <td>0</td>\n",
       "    </tr>\n",
       "    <tr>\n",
       "      <th>1</th>\n",
       "      <td>need change existing product facing intermitte...</td>\n",
       "      <td>Critical</td>\n",
       "      <td>Chat</td>\n",
       "      <td>1</td>\n",
       "      <td>0</td>\n",
       "    </tr>\n",
       "    <tr>\n",
       "      <th>2</th>\n",
       "      <td>facing problem turning working fine yesterday ...</td>\n",
       "      <td>Low</td>\n",
       "      <td>Social media</td>\n",
       "      <td>0</td>\n",
       "      <td>0</td>\n",
       "    </tr>\n",
       "    <tr>\n",
       "      <th>3</th>\n",
       "      <td>problem youre interested love see happen check...</td>\n",
       "      <td>Low</td>\n",
       "      <td>Social media</td>\n",
       "      <td>0</td>\n",
       "      <td>0</td>\n",
       "    </tr>\n",
       "    <tr>\n",
       "      <th>4</th>\n",
       "      <td>note seller responsible damages delivery game ...</td>\n",
       "      <td>Low</td>\n",
       "      <td>Email</td>\n",
       "      <td>0</td>\n",
       "      <td>0</td>\n",
       "    </tr>\n",
       "  </tbody>\n",
       "</table>\n",
       "</div>"
      ],
      "text/plain": [
       "                                  Ticket Description Ticket Priority  \\\n",
       "0  billing code appreciate requested website addr...        Critical   \n",
       "1  need change existing product facing intermitte...        Critical   \n",
       "2  facing problem turning working fine yesterday ...             Low   \n",
       "3  problem youre interested love see happen check...             Low   \n",
       "4  note seller responsible damages delivery game ...             Low   \n",
       "\n",
       "  Ticket Channel  Urgency  Resolution_Time_Bin  \n",
       "0   Social media        1                    0  \n",
       "1           Chat        1                    0  \n",
       "2   Social media        0                    0  \n",
       "3   Social media        0                    0  \n",
       "4          Email        0                    0  "
      ]
     },
     "execution_count": 77,
     "metadata": {},
     "output_type": "execute_result"
    }
   ],
   "source": [
    "# Cargar el dataset limpio\n",
    "data_entrenamiento = pd.read_csv('C:\\CC219-TP-TF-2024-2--CC92\\data\\data_limpia2.csv')\n",
    "\n",
    "# Revisar el dataset\n",
    "print(\"Dimensiones del dataset:\", data_entrenamiento.shape)\n",
    "print(\"\\nPrimeras filas del dataset:\")\n",
    "data_entrenamiento.head()"
   ]
  },
  {
   "cell_type": "code",
   "execution_count": null,
   "id": "3243e865",
   "metadata": {},
   "outputs": [],
   "source": [
    "# 4.1.1 Definir variables\n",
    "# - X_urgency: columnas de descripción, prioridad y canal.\n",
    "# - y_urgency: etiqueta binaria de urgencia.\n",
    "# - X_time: mismas columnas para tiempo de respuesta.\n",
    "# - y_time: etiqueta binaria de tiempo de resolución.\n",
    "\n",
    "# 4.1.2 División de datos\n",
    "# - Separar cada par (X, y) en train/test (80/20) con stratify para mantener proporciones."
   ]
  },
  {
   "cell_type": "markdown",
   "id": "2cb094d7",
   "metadata": {},
   "source": [
    "# Entrenamiento de Modelos"
   ]
  },
  {
   "cell_type": "markdown",
   "id": "2134dd0b",
   "metadata": {},
   "source": [
    "### Pipeline clásico: TF‑IDF + Regresión Logística"
   ]
  },
  {
   "cell_type": "markdown",
   "id": "7cc85f39",
   "metadata": {},
   "source": [
    "##### 1. Definición del preprocesador"
   ]
  },
  {
   "cell_type": "code",
   "execution_count": null,
   "id": "815e40c1",
   "metadata": {},
   "outputs": [],
   "source": [
    "# `ColumnTransformer` que aplique:\n",
    "    # TF-IDF en `Ticket Description`.\n",
    "    # One-Hot Encoding en variables categóricas adicionales."
   ]
  },
  {
   "cell_type": "markdown",
   "id": "4b67cc24",
   "metadata": {},
   "source": [
    "(explicación de que se hace y si se imprime algo significa)"
   ]
  },
  {
   "cell_type": "markdown",
   "id": "63761f3b",
   "metadata": {},
   "source": [
    "##### 2.  Construcción del pipeline"
   ]
  },
  {
   "cell_type": "code",
   "execution_count": null,
   "id": "ff1dc77e",
   "metadata": {},
   "outputs": [],
   "source": [
    "# Encadenar preprocesador con `LogisticRegression`."
   ]
  },
  {
   "cell_type": "markdown",
   "id": "86828919",
   "metadata": {},
   "source": [
    "(explicación de que se hace y si se imprime algo significa)"
   ]
  },
  {
   "cell_type": "markdown",
   "id": "98ea9e70",
   "metadata": {},
   "source": [
    "##### 3.  Entrenamiento"
   ]
  },
  {
   "cell_type": "code",
   "execution_count": null,
   "id": "8938ef9b",
   "metadata": {},
   "outputs": [],
   "source": [
    "# Ajustar el pipeline a los datos de entrenamiento."
   ]
  },
  {
   "cell_type": "markdown",
   "id": "f3385f1b",
   "metadata": {},
   "source": [
    "(explicación de que se hace y si se imprime algo significa)"
   ]
  },
  {
   "cell_type": "markdown",
   "id": "6da93716",
   "metadata": {},
   "source": [
    "##### 4.  Evaluación"
   ]
  },
  {
   "cell_type": "code",
   "execution_count": null,
   "id": "5a92cb30",
   "metadata": {},
   "outputs": [],
   "source": [
    "# Generar predicciones en test.\n",
    "# Calcular métricas: accuracy, precision, recall, F1-score y ROC-AUC."
   ]
  },
  {
   "cell_type": "markdown",
   "id": "fb2eb39b",
   "metadata": {},
   "source": [
    "(explicación de que se hace y si se imprime algo significa)"
   ]
  },
  {
   "cell_type": "markdown",
   "id": "e066a42d",
   "metadata": {},
   "source": [
    "#### Insight 1: Priorización ineficiente  \n",
    "Al ajustar `class_weight='balanced'` en el clasificador, reforzamos la detección de tickets críticos.  \n",
    "**Resultados:** _(completar con métricas: precision, recall, F1 para la clase “Urgente”)_\n",
    "\n",
    "#### Insight 2: Desempeño por canal  \n",
    "La inclusión de `Ticket Channel` permite al modelo adaptar sus predicciones según el canal de entrada.  \n",
    "**Resultados:** _(completar con comparación de métricas por canal o ejemplos de casos “Chat” vs. “Email”)_\n",
    "\n",
    "#### Insight 3: Temas recurrentes  \n",
    "TF-IDF resalta las palabras clave que anticipan urgencia, capturando problemas frecuentes.  \n",
    "**Resultados:** _(completar con lista de términos más frecuentes o imagen de nube de palabras)_\n"
   ]
  },
  {
   "cell_type": "markdown",
   "id": "19199d3b",
   "metadata": {},
   "source": [
    "### Pipeline moderno: DistilBERT Fine‑Tuning"
   ]
  },
  {
   "cell_type": "markdown",
   "id": "cd504e9c",
   "metadata": {},
   "source": [
    "##### 1. Preparación de datos"
   ]
  },
  {
   "cell_type": "code",
   "execution_count": null,
   "id": "651708c3",
   "metadata": {},
   "outputs": [],
   "source": [
    "# Tokenizar descripciones con `DistilBertTokenizer`.\n",
    "# Codificar etiquetas con `LabelEncoder`."
   ]
  },
  {
   "cell_type": "markdown",
   "id": "bd4208a8",
   "metadata": {},
   "source": [
    "(explicación de que se hace y si se imprime algo significa)"
   ]
  },
  {
   "cell_type": "markdown",
   "id": "55319e18",
   "metadata": {},
   "source": [
    "##### 2. Preparación de datasets de entrenamiento"
   ]
  },
  {
   "cell_type": "code",
   "execution_count": null,
   "id": "9990ae5f",
   "metadata": {},
   "outputs": [],
   "source": [
    "# Generar `tf.data.Dataset` (TensorFlow) o `DataLoader` (PyTorch) a partir de los encodings y etiquetas\n",
    "# Convertir encodings y etiquetas en `tf.data.Dataset` o `DataLoader` de PyTorch."
   ]
  },
  {
   "cell_type": "markdown",
   "id": "5a1283aa",
   "metadata": {},
   "source": [
    "(explicación de que se hace y si se imprime algo significa)"
   ]
  },
  {
   "cell_type": "markdown",
   "id": "3a56590a",
   "metadata": {},
   "source": [
    "##### 3. Configuración del modelo"
   ]
  },
  {
   "cell_type": "code",
   "execution_count": null,
   "id": "1160e190",
   "metadata": {},
   "outputs": [],
   "source": [
    "# Cargar `TFDistilBertForSequenceClassification` con número de clases.\n",
    "# Compilar (TF) o definir optimizador (PyTorch)."
   ]
  },
  {
   "cell_type": "markdown",
   "id": "2ebaf787",
   "metadata": {},
   "source": [
    "(explicación de que se hace y si se imprime algo significa)"
   ]
  },
  {
   "cell_type": "markdown",
   "id": "75881ec4",
   "metadata": {},
   "source": [
    "##### 4. Entrenamiento del modelo"
   ]
  },
  {
   "cell_type": "code",
   "execution_count": null,
   "id": "3902f13a",
   "metadata": {},
   "outputs": [],
   "source": [
    "# Fine-tuning por varias épocas con validación."
   ]
  },
  {
   "cell_type": "markdown",
   "id": "f12fe74e",
   "metadata": {},
   "source": [
    "(explicación de que se hace y si se imprime algo significa)"
   ]
  },
  {
   "cell_type": "markdown",
   "id": "f37d07d2",
   "metadata": {},
   "source": [
    "##### 5. Evaluación"
   ]
  },
  {
   "cell_type": "code",
   "execution_count": null,
   "id": "ca0dc73d",
   "metadata": {},
   "outputs": [],
   "source": [
    "# Evaluar en el conjunto de prueba y reportar pérdida y exactitud."
   ]
  },
  {
   "cell_type": "markdown",
   "id": "3be36653",
   "metadata": {},
   "source": [
    "(explicación de que se hace y si se imprime algo significa)"
   ]
  },
  {
   "cell_type": "markdown",
   "id": "95f31491",
   "metadata": {},
   "source": [
    "#### 4.3.4 Insight 1: Priorización de respuesta rápida  \n",
    "El modelo de tiempo de resolución predice si un ticket recibirá respuesta en menos de una hora o no.  \n",
    "**Resultados:** _(completar con métricas: precision, recall, F1 para la clase “<1h”)_\n",
    "\n",
    "#### 4.3.5 Insight 2: Impacto del canal en la latencia  \n",
    "Incluir `Ticket Channel` permitió al modelo capturar diferencias en la rapidez de atención según el canal (por ejemplo, “Chat” vs. “Email”).  \n",
    "**Resultados:** _(completar con comparación de métricas por canal)_\n",
    "\n",
    "#### 4.3.6 Insight 3: Patrones de demora  \n",
    "TF‑IDF identifica términos asociados a demoras frecuentes (p. ej. “network”, “update”, “delay”).  \n",
    "**Resultados:** _(completar con lista de palabras clave o visualización de frecuencia)_"
   ]
  },
  {
   "cell_type": "markdown",
   "id": "01fd8fdf",
   "metadata": {},
   "source": [
    "### Comparativa de resultados"
   ]
  },
  {
   "cell_type": "code",
   "execution_count": null,
   "id": "1634159d",
   "metadata": {},
   "outputs": [],
   "source": [
    "# Métricas clave (precision, recall, F1, accuracy, ROC‑AUC) para cada enfoque.\n",
    "# Matriz de confusión de ambos modelos.\n",
    "# Graficar barras o tablas con precision, recall y F1-score."
   ]
  },
  {
   "cell_type": "markdown",
   "id": "986a6e7b",
   "metadata": {},
   "source": [
    "(explicación de cada resultado, tiempo de entrenamiento y requisitos de hardware.)"
   ]
  },
  {
   "cell_type": "markdown",
   "id": "abfa532e",
   "metadata": {},
   "source": [
    "### Guardado del modelo seleccionado"
   ]
  },
  {
   "cell_type": "code",
   "execution_count": null,
   "id": "fe1e33fc",
   "metadata": {},
   "outputs": [],
   "source": [
    "# Según la comparativa, decidir el mejor modelo para producción.\n",
    "# Guardar el pipeline clásico con `joblib.dump`.\n",
    "# Guardar el modelo DistilBERT con `model.save_pretrained` y el tokenizer."
   ]
  }
 ],
 "metadata": {
  "kernelspec": {
   "display_name": "Python 3",
   "language": "python",
   "name": "python3"
  },
  "language_info": {
   "codemirror_mode": {
    "name": "ipython",
    "version": 3
   },
   "file_extension": ".py",
   "mimetype": "text/x-python",
   "name": "python",
   "nbconvert_exporter": "python",
   "pygments_lexer": "ipython3",
   "version": "3.12.6"
  }
 },
 "nbformat": 4,
 "nbformat_minor": 5
}
