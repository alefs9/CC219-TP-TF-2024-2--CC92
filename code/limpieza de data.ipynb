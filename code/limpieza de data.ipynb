{
 "cells": [
  {
   "cell_type": "markdown",
   "id": "8c3d22cf",
   "metadata": {},
   "source": [
    "# Parte 1: Limpieza de datos"
   ]
  },
  {
   "cell_type": "markdown",
   "id": "a8261277",
   "metadata": {},
   "source": [
    "Antes de de entrenar el modelo es fundamental preparar el conjunto de datos. Esta etapa de limpieza nos permite asegurar que los datos sean consistentes, relevantes y útiles para el análisis posterior.\n",
    "\n",
    "- Detección y tratamiento de valores nulos\n",
    "- Eliminación de columnas innecesarias o sensibles\n",
    "- Transformación de variables tipo fecha\n",
    "- Creación de una nueva variable: tiempo de respuesta\n",
    "- Imputación de valores faltantes con estrategia basada en el negocio"
   ]
  },
  {
   "cell_type": "markdown",
   "id": "6c56c6dd",
   "metadata": {},
   "source": [
    "### Carga de datos y exploración inicial"
   ]
  },
  {
   "cell_type": "code",
   "execution_count": 41,
   "id": "178a8cf3",
   "metadata": {},
   "outputs": [
    {
     "name": "stderr",
     "output_type": "stream",
     "text": [
      "<>:4: SyntaxWarning: invalid escape sequence '\\C'\n",
      "<>:4: SyntaxWarning: invalid escape sequence '\\C'\n",
      "C:\\Users\\alexa\\AppData\\Local\\Temp\\ipykernel_10936\\1879719400.py:4: SyntaxWarning: invalid escape sequence '\\C'\n",
      "  data = pd.read_csv('C:\\CC219-TP-TF-2024-2--CC92\\data\\customer_support_tickets.csv')\n"
     ]
    }
   ],
   "source": [
    "import pandas as pd\n",
    "\n",
    "# Cargar el dataset original\n",
    "data = pd.read_csv('C:\\CC219-TP-TF-2024-2--CC92\\data\\customer_support_tickets.csv')"
   ]
  },
  {
   "cell_type": "code",
   "execution_count": 42,
   "id": "0a63a402",
   "metadata": {},
   "outputs": [
    {
     "data": {
      "text/plain": [
       "(8469, 17)"
      ]
     },
     "execution_count": 42,
     "metadata": {},
     "output_type": "execute_result"
    }
   ],
   "source": [
    "data.shape"
   ]
  },
  {
   "cell_type": "code",
   "execution_count": 43,
   "id": "a65e774d",
   "metadata": {},
   "outputs": [
    {
     "data": {
      "text/plain": [
       "Index(['Ticket ID', 'Customer Name', 'Customer Email', 'Customer Age',\n",
       "       'Customer Gender', 'Product Purchased', 'Date of Purchase',\n",
       "       'Ticket Type', 'Ticket Subject', 'Ticket Description', 'Ticket Status',\n",
       "       'Resolution', 'Ticket Priority', 'Ticket Channel',\n",
       "       'First Response Time', 'Time to Resolution',\n",
       "       'Customer Satisfaction Rating'],\n",
       "      dtype='object')"
      ]
     },
     "execution_count": 43,
     "metadata": {},
     "output_type": "execute_result"
    }
   ],
   "source": [
    "data.columns"
   ]
  },
  {
   "cell_type": "code",
   "execution_count": 44,
   "id": "44907bd7",
   "metadata": {},
   "outputs": [
    {
     "name": "stdout",
     "output_type": "stream",
     "text": [
      "<class 'pandas.core.frame.DataFrame'>\n",
      "RangeIndex: 8469 entries, 0 to 8468\n",
      "Data columns (total 17 columns):\n",
      " #   Column                        Non-Null Count  Dtype  \n",
      "---  ------                        --------------  -----  \n",
      " 0   Ticket ID                     8469 non-null   int64  \n",
      " 1   Customer Name                 8469 non-null   object \n",
      " 2   Customer Email                8469 non-null   object \n",
      " 3   Customer Age                  8469 non-null   int64  \n",
      " 4   Customer Gender               8469 non-null   object \n",
      " 5   Product Purchased             8469 non-null   object \n",
      " 6   Date of Purchase              8469 non-null   object \n",
      " 7   Ticket Type                   8469 non-null   object \n",
      " 8   Ticket Subject                8469 non-null   object \n",
      " 9   Ticket Description            8469 non-null   object \n",
      " 10  Ticket Status                 8469 non-null   object \n",
      " 11  Resolution                    2769 non-null   object \n",
      " 12  Ticket Priority               8469 non-null   object \n",
      " 13  Ticket Channel                8469 non-null   object \n",
      " 14  First Response Time           5650 non-null   object \n",
      " 15  Time to Resolution            2769 non-null   object \n",
      " 16  Customer Satisfaction Rating  2769 non-null   float64\n",
      "dtypes: float64(1), int64(2), object(14)\n",
      "memory usage: 1.1+ MB\n"
     ]
    }
   ],
   "source": [
    "data.info()"
   ]
  },
  {
   "cell_type": "code",
   "execution_count": 45,
   "id": "162fcb12",
   "metadata": {},
   "outputs": [
    {
     "data": {
      "text/html": [
       "<div>\n",
       "<style scoped>\n",
       "    .dataframe tbody tr th:only-of-type {\n",
       "        vertical-align: middle;\n",
       "    }\n",
       "\n",
       "    .dataframe tbody tr th {\n",
       "        vertical-align: top;\n",
       "    }\n",
       "\n",
       "    .dataframe thead th {\n",
       "        text-align: right;\n",
       "    }\n",
       "</style>\n",
       "<table border=\"1\" class=\"dataframe\">\n",
       "  <thead>\n",
       "    <tr style=\"text-align: right;\">\n",
       "      <th></th>\n",
       "      <th>Ticket ID</th>\n",
       "      <th>Customer Name</th>\n",
       "      <th>Customer Email</th>\n",
       "      <th>Customer Age</th>\n",
       "      <th>Customer Gender</th>\n",
       "      <th>Product Purchased</th>\n",
       "      <th>Date of Purchase</th>\n",
       "      <th>Ticket Type</th>\n",
       "      <th>Ticket Subject</th>\n",
       "      <th>Ticket Description</th>\n",
       "      <th>Ticket Status</th>\n",
       "      <th>Resolution</th>\n",
       "      <th>Ticket Priority</th>\n",
       "      <th>Ticket Channel</th>\n",
       "      <th>First Response Time</th>\n",
       "      <th>Time to Resolution</th>\n",
       "      <th>Customer Satisfaction Rating</th>\n",
       "    </tr>\n",
       "  </thead>\n",
       "  <tbody>\n",
       "    <tr>\n",
       "      <th>0</th>\n",
       "      <td>1</td>\n",
       "      <td>Marisa Obrien</td>\n",
       "      <td>carrollallison@example.com</td>\n",
       "      <td>32</td>\n",
       "      <td>Other</td>\n",
       "      <td>GoPro Hero</td>\n",
       "      <td>2021-03-22</td>\n",
       "      <td>Technical issue</td>\n",
       "      <td>Product setup</td>\n",
       "      <td>I'm having an issue with the {product_purchase...</td>\n",
       "      <td>Pending Customer Response</td>\n",
       "      <td>NaN</td>\n",
       "      <td>Critical</td>\n",
       "      <td>Social media</td>\n",
       "      <td>2023-06-01 12:15:36</td>\n",
       "      <td>NaN</td>\n",
       "      <td>NaN</td>\n",
       "    </tr>\n",
       "    <tr>\n",
       "      <th>1</th>\n",
       "      <td>2</td>\n",
       "      <td>Jessica Rios</td>\n",
       "      <td>clarkeashley@example.com</td>\n",
       "      <td>42</td>\n",
       "      <td>Female</td>\n",
       "      <td>LG Smart TV</td>\n",
       "      <td>2021-05-22</td>\n",
       "      <td>Technical issue</td>\n",
       "      <td>Peripheral compatibility</td>\n",
       "      <td>I'm having an issue with the {product_purchase...</td>\n",
       "      <td>Pending Customer Response</td>\n",
       "      <td>NaN</td>\n",
       "      <td>Critical</td>\n",
       "      <td>Chat</td>\n",
       "      <td>2023-06-01 16:45:38</td>\n",
       "      <td>NaN</td>\n",
       "      <td>NaN</td>\n",
       "    </tr>\n",
       "    <tr>\n",
       "      <th>2</th>\n",
       "      <td>3</td>\n",
       "      <td>Christopher Robbins</td>\n",
       "      <td>gonzalestracy@example.com</td>\n",
       "      <td>48</td>\n",
       "      <td>Other</td>\n",
       "      <td>Dell XPS</td>\n",
       "      <td>2020-07-14</td>\n",
       "      <td>Technical issue</td>\n",
       "      <td>Network problem</td>\n",
       "      <td>I'm facing a problem with my {product_purchase...</td>\n",
       "      <td>Closed</td>\n",
       "      <td>Case maybe show recently my computer follow.</td>\n",
       "      <td>Low</td>\n",
       "      <td>Social media</td>\n",
       "      <td>2023-06-01 11:14:38</td>\n",
       "      <td>2023-06-01 18:05:38</td>\n",
       "      <td>3.0</td>\n",
       "    </tr>\n",
       "    <tr>\n",
       "      <th>3</th>\n",
       "      <td>4</td>\n",
       "      <td>Christina Dillon</td>\n",
       "      <td>bradleyolson@example.org</td>\n",
       "      <td>27</td>\n",
       "      <td>Female</td>\n",
       "      <td>Microsoft Office</td>\n",
       "      <td>2020-11-13</td>\n",
       "      <td>Billing inquiry</td>\n",
       "      <td>Account access</td>\n",
       "      <td>I'm having an issue with the {product_purchase...</td>\n",
       "      <td>Closed</td>\n",
       "      <td>Try capital clearly never color toward story.</td>\n",
       "      <td>Low</td>\n",
       "      <td>Social media</td>\n",
       "      <td>2023-06-01 07:29:40</td>\n",
       "      <td>2023-06-01 01:57:40</td>\n",
       "      <td>3.0</td>\n",
       "    </tr>\n",
       "    <tr>\n",
       "      <th>4</th>\n",
       "      <td>5</td>\n",
       "      <td>Alexander Carroll</td>\n",
       "      <td>bradleymark@example.com</td>\n",
       "      <td>67</td>\n",
       "      <td>Female</td>\n",
       "      <td>Autodesk AutoCAD</td>\n",
       "      <td>2020-02-04</td>\n",
       "      <td>Billing inquiry</td>\n",
       "      <td>Data loss</td>\n",
       "      <td>I'm having an issue with the {product_purchase...</td>\n",
       "      <td>Closed</td>\n",
       "      <td>West decision evidence bit.</td>\n",
       "      <td>Low</td>\n",
       "      <td>Email</td>\n",
       "      <td>2023-06-01 00:12:42</td>\n",
       "      <td>2023-06-01 19:53:42</td>\n",
       "      <td>1.0</td>\n",
       "    </tr>\n",
       "  </tbody>\n",
       "</table>\n",
       "</div>"
      ],
      "text/plain": [
       "   Ticket ID        Customer Name              Customer Email  Customer Age  \\\n",
       "0          1        Marisa Obrien  carrollallison@example.com            32   \n",
       "1          2         Jessica Rios    clarkeashley@example.com            42   \n",
       "2          3  Christopher Robbins   gonzalestracy@example.com            48   \n",
       "3          4     Christina Dillon    bradleyolson@example.org            27   \n",
       "4          5    Alexander Carroll     bradleymark@example.com            67   \n",
       "\n",
       "  Customer Gender Product Purchased Date of Purchase      Ticket Type  \\\n",
       "0           Other        GoPro Hero       2021-03-22  Technical issue   \n",
       "1          Female       LG Smart TV       2021-05-22  Technical issue   \n",
       "2           Other          Dell XPS       2020-07-14  Technical issue   \n",
       "3          Female  Microsoft Office       2020-11-13  Billing inquiry   \n",
       "4          Female  Autodesk AutoCAD       2020-02-04  Billing inquiry   \n",
       "\n",
       "             Ticket Subject  \\\n",
       "0             Product setup   \n",
       "1  Peripheral compatibility   \n",
       "2           Network problem   \n",
       "3            Account access   \n",
       "4                 Data loss   \n",
       "\n",
       "                                  Ticket Description  \\\n",
       "0  I'm having an issue with the {product_purchase...   \n",
       "1  I'm having an issue with the {product_purchase...   \n",
       "2  I'm facing a problem with my {product_purchase...   \n",
       "3  I'm having an issue with the {product_purchase...   \n",
       "4  I'm having an issue with the {product_purchase...   \n",
       "\n",
       "               Ticket Status                                     Resolution  \\\n",
       "0  Pending Customer Response                                            NaN   \n",
       "1  Pending Customer Response                                            NaN   \n",
       "2                     Closed   Case maybe show recently my computer follow.   \n",
       "3                     Closed  Try capital clearly never color toward story.   \n",
       "4                     Closed                    West decision evidence bit.   \n",
       "\n",
       "  Ticket Priority Ticket Channel  First Response Time   Time to Resolution  \\\n",
       "0        Critical   Social media  2023-06-01 12:15:36                  NaN   \n",
       "1        Critical           Chat  2023-06-01 16:45:38                  NaN   \n",
       "2             Low   Social media  2023-06-01 11:14:38  2023-06-01 18:05:38   \n",
       "3             Low   Social media  2023-06-01 07:29:40  2023-06-01 01:57:40   \n",
       "4             Low          Email  2023-06-01 00:12:42  2023-06-01 19:53:42   \n",
       "\n",
       "   Customer Satisfaction Rating  \n",
       "0                           NaN  \n",
       "1                           NaN  \n",
       "2                           3.0  \n",
       "3                           3.0  \n",
       "4                           1.0  "
      ]
     },
     "execution_count": 45,
     "metadata": {},
     "output_type": "execute_result"
    }
   ],
   "source": [
    "data.head()"
   ]
  },
  {
   "cell_type": "markdown",
   "id": "554c3051",
   "metadata": {},
   "source": [
    "| **Columna**                    | **Descripción**                                                                            |\n",
    "| ------------------------------ | ------------------------------------------------------------------------------------------ |\n",
    "| `Ticket ID`                    | Identificador único de cada ticket (caso de soporte).                                      |\n",
    "| `Customer Name`                | Nombre del cliente que reportó el problema.                                                |\n",
    "| `Customer Email`               | Correo electrónico del cliente.                                                            |\n",
    "| `Customer Age`                 | Edad del cliente.                                                                          |\n",
    "| `Customer Gender`              | Género del cliente (`Male`, `Female`, `Other`).                                            |\n",
    "| `Product Purchased`            | Nombre del producto comprado por el cliente.                                               |\n",
    "| `Date of Purchase`             | Fecha en la que el cliente compró el producto.                                             |\n",
    "| `Ticket Type`                  | Tipo de problema reportado (e.g. `Technical issue`, `Billing inquiry`, `Product inquiry`). |\n",
    "| `Ticket Subject`               | Tema específico del ticket (e.g. `Data loss`, `Account access`).                           |\n",
    "| `Ticket Description`           | Descripción del problema redactada por el cliente.                                         |\n",
    "| `Ticket Status`                | Estado del ticket (e.g. `Open`, `Closed`, `Pending Customer Response`).                    |\n",
    "| `Resolution`                   | Descripción de la solución proporcionada por soporte (si la hubo).                         |\n",
    "| `Ticket Priority`              | Nivel de prioridad asignado al ticket (`Low`, `Medium`, `High`, `Critical`).               |\n",
    "| `Ticket Channel`               | Canal por el cual se generó el ticket (e.g. `Email`, `Phone`, `Chat`, `Social media`).     |\n",
    "| `First Response Time`          | Tiempo de la primera respuesta del equipo de soporte al cliente (timestamp).               |\n",
    "| `Time to Resolution`           | Tiempo en que se resolvió el ticket (timestamp).                                           |\n",
    "| `Customer Satisfaction Rating` | Puntuación dada por el cliente después de recibir la solución (e.g. 1 a 5).                |"
   ]
  },
  {
   "cell_type": "markdown",
   "id": "972cf76d",
   "metadata": {},
   "source": [
    "### Revisión de valores nulos"
   ]
  },
  {
   "cell_type": "markdown",
   "id": "eef46750",
   "metadata": {},
   "source": [
    "Evaluamos qué tan completas están las columnas. Esto es clave para decidir si es mejor mantener o eliminar una variable."
   ]
  },
  {
   "cell_type": "code",
   "execution_count": 46,
   "id": "a6ca6205",
   "metadata": {},
   "outputs": [
    {
     "data": {
      "text/html": [
       "<div>\n",
       "<style scoped>\n",
       "    .dataframe tbody tr th:only-of-type {\n",
       "        vertical-align: middle;\n",
       "    }\n",
       "\n",
       "    .dataframe tbody tr th {\n",
       "        vertical-align: top;\n",
       "    }\n",
       "\n",
       "    .dataframe thead th {\n",
       "        text-align: right;\n",
       "    }\n",
       "</style>\n",
       "<table border=\"1\" class=\"dataframe\">\n",
       "  <thead>\n",
       "    <tr style=\"text-align: right;\">\n",
       "      <th></th>\n",
       "      <th>Valores Nulos</th>\n",
       "      <th>Porcentaje (%)</th>\n",
       "    </tr>\n",
       "  </thead>\n",
       "  <tbody>\n",
       "    <tr>\n",
       "      <th>Customer Satisfaction Rating</th>\n",
       "      <td>5700</td>\n",
       "      <td>67.30</td>\n",
       "    </tr>\n",
       "    <tr>\n",
       "      <th>Resolution</th>\n",
       "      <td>5700</td>\n",
       "      <td>67.30</td>\n",
       "    </tr>\n",
       "    <tr>\n",
       "      <th>Time to Resolution</th>\n",
       "      <td>5700</td>\n",
       "      <td>67.30</td>\n",
       "    </tr>\n",
       "    <tr>\n",
       "      <th>First Response Time</th>\n",
       "      <td>2819</td>\n",
       "      <td>33.29</td>\n",
       "    </tr>\n",
       "    <tr>\n",
       "      <th>Ticket ID</th>\n",
       "      <td>0</td>\n",
       "      <td>0.00</td>\n",
       "    </tr>\n",
       "    <tr>\n",
       "      <th>Customer Name</th>\n",
       "      <td>0</td>\n",
       "      <td>0.00</td>\n",
       "    </tr>\n",
       "    <tr>\n",
       "      <th>Customer Email</th>\n",
       "      <td>0</td>\n",
       "      <td>0.00</td>\n",
       "    </tr>\n",
       "    <tr>\n",
       "      <th>Customer Age</th>\n",
       "      <td>0</td>\n",
       "      <td>0.00</td>\n",
       "    </tr>\n",
       "    <tr>\n",
       "      <th>Customer Gender</th>\n",
       "      <td>0</td>\n",
       "      <td>0.00</td>\n",
       "    </tr>\n",
       "    <tr>\n",
       "      <th>Ticket Subject</th>\n",
       "      <td>0</td>\n",
       "      <td>0.00</td>\n",
       "    </tr>\n",
       "    <tr>\n",
       "      <th>Ticket Type</th>\n",
       "      <td>0</td>\n",
       "      <td>0.00</td>\n",
       "    </tr>\n",
       "    <tr>\n",
       "      <th>Date of Purchase</th>\n",
       "      <td>0</td>\n",
       "      <td>0.00</td>\n",
       "    </tr>\n",
       "    <tr>\n",
       "      <th>Product Purchased</th>\n",
       "      <td>0</td>\n",
       "      <td>0.00</td>\n",
       "    </tr>\n",
       "    <tr>\n",
       "      <th>Ticket Priority</th>\n",
       "      <td>0</td>\n",
       "      <td>0.00</td>\n",
       "    </tr>\n",
       "    <tr>\n",
       "      <th>Ticket Status</th>\n",
       "      <td>0</td>\n",
       "      <td>0.00</td>\n",
       "    </tr>\n",
       "    <tr>\n",
       "      <th>Ticket Description</th>\n",
       "      <td>0</td>\n",
       "      <td>0.00</td>\n",
       "    </tr>\n",
       "    <tr>\n",
       "      <th>Ticket Channel</th>\n",
       "      <td>0</td>\n",
       "      <td>0.00</td>\n",
       "    </tr>\n",
       "  </tbody>\n",
       "</table>\n",
       "</div>"
      ],
      "text/plain": [
       "                              Valores Nulos  Porcentaje (%)\n",
       "Customer Satisfaction Rating           5700           67.30\n",
       "Resolution                             5700           67.30\n",
       "Time to Resolution                     5700           67.30\n",
       "First Response Time                    2819           33.29\n",
       "Ticket ID                                 0            0.00\n",
       "Customer Name                             0            0.00\n",
       "Customer Email                            0            0.00\n",
       "Customer Age                              0            0.00\n",
       "Customer Gender                           0            0.00\n",
       "Ticket Subject                            0            0.00\n",
       "Ticket Type                               0            0.00\n",
       "Date of Purchase                          0            0.00\n",
       "Product Purchased                         0            0.00\n",
       "Ticket Priority                           0            0.00\n",
       "Ticket Status                             0            0.00\n",
       "Ticket Description                        0            0.00\n",
       "Ticket Channel                            0            0.00"
      ]
     },
     "execution_count": 46,
     "metadata": {},
     "output_type": "execute_result"
    }
   ],
   "source": [
    "# Cálculo de nulos y su porcentaje\n",
    "nulos = data.isnull().sum()\n",
    "porcentaje = (nulos / len(data)) * 100\n",
    "\n",
    "# Mostrar tabla ordenada\n",
    "nulos_df = pd.DataFrame({\n",
    "    'Valores Nulos': nulos,\n",
    "    'Porcentaje (%)': porcentaje.round(2)\n",
    "}).sort_values(by='Porcentaje (%)', ascending=False)\n",
    "\n",
    "nulos_df"
   ]
  },
  {
   "cell_type": "markdown",
   "id": "3184b8d9",
   "metadata": {},
   "source": [
    "### Eliminación de columnas "
   ]
  },
  {
   "cell_type": "markdown",
   "id": "8a71c643",
   "metadata": {},
   "source": [
    "Columnas innecesarias para análisis/modelado:\n",
    "- Ticket ID: Es un identificador, no realiza ningún aporta información útil al análisis.\n",
    "- Customer Name y Customer Email: Ambas columnas contienen información personal identificable considerada sensible desde el punto de vista de privacidad. Debe ser eliminada o anonimizada cumpliendo con principios éticos y respetando las normativas de protección de datos. \n",
    "- Resolution: Esta variable contiene descripciones textuales extensas, poco estructuradas, lo que dificultaría realizar un análisis usando la misma. Además, presenta un alto porcentaje de valores nulos (67.30 %). \n",
    "- Customer Satisfaction Rating: Esta variable presenta un alto porcentaje de valores nulos (67.30 %), lo que limita su utilidad. "
   ]
  },
  {
   "cell_type": "code",
   "execution_count": 47,
   "id": "15dbde58",
   "metadata": {},
   "outputs": [],
   "source": [
    "data.drop(columns=['Ticket ID', 'Customer Name', 'Customer Email', 'Customer Satisfaction Rating', 'Resolution'], inplace=True)"
   ]
  },
  {
   "cell_type": "code",
   "execution_count": 48,
   "id": "72bba994",
   "metadata": {},
   "outputs": [
    {
     "data": {
      "text/plain": [
       "Index(['Customer Age', 'Customer Gender', 'Product Purchased',\n",
       "       'Date of Purchase', 'Ticket Type', 'Ticket Subject',\n",
       "       'Ticket Description', 'Ticket Status', 'Ticket Priority',\n",
       "       'Ticket Channel', 'First Response Time', 'Time to Resolution'],\n",
       "      dtype='object')"
      ]
     },
     "execution_count": 48,
     "metadata": {},
     "output_type": "execute_result"
    }
   ],
   "source": [
    "data.columns"
   ]
  },
  {
   "cell_type": "markdown",
   "id": "c72a24a6",
   "metadata": {},
   "source": [
    "### Obtener tiempo de respuesta"
   ]
  },
  {
   "cell_type": "code",
   "execution_count": 49,
   "id": "dd147d3e",
   "metadata": {},
   "outputs": [
    {
     "name": "stdout",
     "output_type": "stream",
     "text": [
      "<class 'pandas.core.frame.DataFrame'>\n",
      "RangeIndex: 8469 entries, 0 to 8468\n",
      "Data columns (total 12 columns):\n",
      " #   Column               Non-Null Count  Dtype         \n",
      "---  ------               --------------  -----         \n",
      " 0   Customer Age         8469 non-null   int64         \n",
      " 1   Customer Gender      8469 non-null   object        \n",
      " 2   Product Purchased    8469 non-null   object        \n",
      " 3   Date of Purchase     8469 non-null   datetime64[ns]\n",
      " 4   Ticket Type          8469 non-null   object        \n",
      " 5   Ticket Subject       8469 non-null   object        \n",
      " 6   Ticket Description   8469 non-null   object        \n",
      " 7   Ticket Status        8469 non-null   object        \n",
      " 8   Ticket Priority      8469 non-null   object        \n",
      " 9   Ticket Channel       8469 non-null   object        \n",
      " 10  First Response Time  5650 non-null   datetime64[ns]\n",
      " 11  Time to Resolution   2769 non-null   datetime64[ns]\n",
      "dtypes: datetime64[ns](3), int64(1), object(8)\n",
      "memory usage: 794.1+ KB\n"
     ]
    }
   ],
   "source": [
    "# convertir variables de fechas a datatime\n",
    "fechas = ['Date of Purchase', 'First Response Time', 'Time to Resolution']\n",
    "for col in fechas:\n",
    "    data[col] = pd.to_datetime(data[col], errors='coerce')\n",
    "\n",
    "data.info()"
   ]
  },
  {
   "cell_type": "code",
   "execution_count": 50,
   "id": "8fafd60e",
   "metadata": {},
   "outputs": [
    {
     "data": {
      "text/plain": [
       "count    2769.000000\n",
       "mean        7.743951\n",
       "std         5.633863\n",
       "min         0.000000\n",
       "25%         3.000000\n",
       "50%         7.000000\n",
       "75%        12.000000\n",
       "max        23.000000\n",
       "Name: Hours_to_First_Response, dtype: float64"
      ]
     },
     "execution_count": 50,
     "metadata": {},
     "output_type": "execute_result"
    }
   ],
   "source": [
    "data['Hours_to_First_Response'] = (\n",
    "    (data['Time to Resolution'] - data['First Response Time'])\n",
    "    .dt.total_seconds().abs() / 3600\n",
    ").round()\n",
    "\n",
    "data['Hours_to_First_Response'].describe()"
   ]
  },
  {
   "cell_type": "markdown",
   "id": "cb113dc0",
   "metadata": {},
   "source": [
    "Esta variable nos permite cuantificar la eficiencia operativa, en otras palabras, cuánto tiempo pasa desde que se genera el ticket hasta la primera respuesta del equipo técnico"
   ]
  },
  {
   "cell_type": "markdown",
   "id": "0163b6e2",
   "metadata": {},
   "source": [
    "### Tratamiento de valores faltantes"
   ]
  },
  {
   "cell_type": "markdown",
   "id": "77543a53",
   "metadata": {},
   "source": [
    "Cerca del 33% de los tickets presentan información incompleta en la columna Hours_to_First_Response. Para preservar el volumen muestral y evitar sesgos asociados a la eliminación de casos, reemplazaremos los valores faltantes usando la mediana según la prioridad del ticket y el canal de atención. Este enfoque nos permite mantener la consistencia en el análisis posterior. "
   ]
  },
  {
   "cell_type": "code",
   "execution_count": 51,
   "id": "67355ad3",
   "metadata": {},
   "outputs": [
    {
     "data": {
      "text/plain": [
       "0        7.0\n",
       "1        6.0\n",
       "2        7.0\n",
       "3        6.0\n",
       "4       20.0\n",
       "        ... \n",
       "8464     7.0\n",
       "8465     7.0\n",
       "8466     5.0\n",
       "8467    13.0\n",
       "8468     7.0\n",
       "Name: Hours_to_First_Response, Length: 8469, dtype: float64"
      ]
     },
     "execution_count": 51,
     "metadata": {},
     "output_type": "execute_result"
    }
   ],
   "source": [
    "# Calcular mediana por combinación\n",
    "mediana = data.groupby(['Ticket Priority', 'Ticket Channel'])['Hours_to_First_Response'].median()\n",
    "\n",
    "# Reemplazar nulos según grupo\n",
    "data['Hours_to_First_Response'] = data.apply(\n",
    "    lambda row: mediana.loc[row['Ticket Priority'], row['Ticket Channel']]\n",
    "    if pd.isnull(row['Hours_to_First_Response']) else row['Hours_to_First_Response'],\n",
    "    axis=1\n",
    ")\n",
    "\n",
    "data['Hours_to_First_Response']\n"
   ]
  },
  {
   "cell_type": "markdown",
   "id": "ce336034",
   "metadata": {},
   "source": [
    "### Eliminación de columnas tras nueva variable"
   ]
  },
  {
   "cell_type": "code",
   "execution_count": 52,
   "id": "4d931659",
   "metadata": {},
   "outputs": [
    {
     "data": {
      "text/plain": [
       "Index(['Customer Age', 'Customer Gender', 'Product Purchased',\n",
       "       'Date of Purchase', 'Ticket Type', 'Ticket Subject',\n",
       "       'Ticket Description', 'Ticket Status', 'Ticket Priority',\n",
       "       'Ticket Channel', 'Hours_to_First_Response'],\n",
       "      dtype='object')"
      ]
     },
     "execution_count": 52,
     "metadata": {},
     "output_type": "execute_result"
    }
   ],
   "source": [
    "data.drop(columns=['Time to Resolution', 'First Response Time'], inplace=True)\n",
    "\n",
    "data.columns"
   ]
  },
  {
   "cell_type": "markdown",
   "id": "dbf8ed8c",
   "metadata": {},
   "source": [
    "### Guardar data limpia"
   ]
  },
  {
   "cell_type": "code",
   "execution_count": 56,
   "id": "1701ae1a",
   "metadata": {},
   "outputs": [
    {
     "name": "stderr",
     "output_type": "stream",
     "text": [
      "<>:1: SyntaxWarning: invalid escape sequence '\\C'\n",
      "<>:1: SyntaxWarning: invalid escape sequence '\\C'\n",
      "C:\\Users\\alexa\\AppData\\Local\\Temp\\ipykernel_10936\\426489590.py:1: SyntaxWarning: invalid escape sequence '\\C'\n",
      "  data.to_csv('C:\\CC219-TP-TF-2024-2--CC92\\data/data_limpia.csv', index=False)\n"
     ]
    }
   ],
   "source": [
    "data.to_csv('C:\\CC219-TP-TF-2024-2--CC92\\data/data_limpia.csv', index=False)"
   ]
  },
  {
   "cell_type": "markdown",
   "id": "3eb2978c",
   "metadata": {},
   "source": [
    "# Nueva Data"
   ]
  },
  {
   "cell_type": "markdown",
   "id": "88e36b23",
   "metadata": {},
   "source": [
    "| Tipo                             | Columnas clave                                                                               | Posible Uso                                                                                                                                                                                                                           |\n",
    "| -------------------------------- | -------------------------------------------------------------------------------------------- | ------------------------------------------------------------------------------------------------------------------------------------------------------------------------------------------------------------------------------------- |\n",
    "| **Texto (NLP)** , **DistilBERT**,**Naïve Bayes + TF-IDF**,**spaCy TextCategorizer**             | `Ticket Subject`, `Ticket Description`                                                       | - Análisis de texto para clasificar o categorizar tickets, usar técnicas de minería de texto.                                                                                                                                         |\n",
    "| **Etiquetas / Targets posibles** | `Ticket Type`, `Ticket Priority`, `Ticket Status`                                            | - Clasificación de tickets, análisis de resolución y asignación de prioridades.                                                                                                                                                       |\n",
    "| **Variables adicionales útiles** | `Customer Age`, `Customer Gender`, `Product Purchased`, `Date of Purchase`, `Ticket Channel` | - Segmentación de clientes por edad y género. <br> - Análisis de tipos de productos con más incidencias. <br> - Estudio de recurrencia de problemas en función del tiempo desde la compra. <br> - Optimización de canales de soporte. |\n",
    "| **Tiempo de Respuesta**          | `Hours_to_First_Response`                                                                    | - Cálculo del tiempo de respuesta a los tickets, análisis de la eficiencia en la atención al cliente.                                                                                                                                 |\n"
   ]
  },
  {
   "cell_type": "markdown",
   "id": "2b173601",
   "metadata": {},
   "source": [
    "### Uso Específico de Cada Columna"
   ]
  },
  {
   "cell_type": "markdown",
   "id": "1d5c024c",
   "metadata": {},
   "source": [
    "| Columna                        | Posible Uso                                                                                                                                      |\n",
    "| ------------------------------ | ------------------------------------------------------------------------------------------------------------------------------------------------ |\n",
    "| **Ticket Subject**             | - Análisis de temas comunes en los tickets, identificación de patrones o problemas recurrentes.                                                  |\n",
    "| **Ticket Description**         | - Profundización en la descripción del problema para clasificación avanzada o análisis de tendencias.                                            |\n",
    "| **Ticket Type**                | - Clasificación de tickets por tipo para optimizar la asignación de recursos o atención especializada.                                           |\n",
    "| **Ticket Priority**            | - Análisis de urgencia y priorización en la atención, optimización de los tiempos de respuesta según la prioridad.                               |\n",
    "| **Ticket Status**              | - Análisis del estado de los tickets para evaluar tiempos de resolución, identificar cuellos de botella o problemas recurrentes en la gestión.   |\n",
    "| **Customer Age**               | - Segmentación de clientes por edad, personalización de la atención o análisis de la relación entre edad y tipo de problemas reportados.         |\n",
    "| **Customer Gender**            | - Segmentación de clientes por género, análisis de patrones específicos de cada grupo para personalizar la atención.                             |\n",
    "| **Product Purchased**          | - Análisis de problemas específicos de ciertos productos, identificación de productos con más incidencias o problemas recurrentes.               |\n",
    "| **Date of Purchase**           | - Estudio de la recurrencia de problemas relacionados con el tiempo de compra, identificación de tendencias de fallos.                           |\n",
    "| **Ticket Channel**             | - Optimización de canales de soporte en función de la frecuencia y eficacia en la atención a los tickets.                                        |\n",
    "| **Hours\\_to\\_First\\_Response** | - Cálculo y análisis del tiempo de respuesta inicial para mejorar la eficiencia en la atención al cliente y optimizar los tiempos de resolución. |"
   ]
  }
 ],
 "metadata": {
  "kernelspec": {
   "display_name": "Python 3",
   "language": "python",
   "name": "python3"
  },
  "language_info": {
   "codemirror_mode": {
    "name": "ipython",
    "version": 3
   },
   "file_extension": ".py",
   "mimetype": "text/x-python",
   "name": "python",
   "nbconvert_exporter": "python",
   "pygments_lexer": "ipython3",
   "version": "3.12.6"
  }
 },
 "nbformat": 4,
 "nbformat_minor": 5
}
